{
  "nbformat": 4,
  "nbformat_minor": 0,
  "metadata": {
    "colab": {
      "provenance": [],
      "gpuType": "T4",
      "collapsed_sections": [
        "l2otm3axTesp",
        "qeG4WkBHLGle",
        "6-siEK3vLdeE",
        "Ou61p8GXHcLB",
        "-MgJsFhuL9Yp",
        "EuotY5edMMBq",
        "aNbWQscpOy6C",
        "rInfga4qO-ss",
        "5BIV4X1PPn5g",
        "JLloWzmFkSjl",
        "r0P0-YINnxME",
        "9WDcY88gnzQk",
        "tkL99hPPP4Fs",
        "OxpklggCQknf",
        "OShWWF_qn3uf",
        "gTHAGSPqn9CK",
        "hLRiopVHSmwP"
      ],
      "include_colab_link": true
    },
    "kernelspec": {
      "name": "python3",
      "display_name": "Python 3"
    },
    "language_info": {
      "name": "python"
    },
    "accelerator": "GPU"
  },
  "cells": [
    {
      "cell_type": "markdown",
      "metadata": {
        "id": "view-in-github",
        "colab_type": "text"
      },
      "source": [
        "<a href=\"https://colab.research.google.com/github/nervaljunior/AI-SolverNet-Deep-Learning-for-Dataset/blob/main/CidadesEmEstadoCritico.ipynb\" target=\"_parent\"><img src=\"https://colab.research.google.com/assets/colab-badge.svg\" alt=\"Open In Colab\"/></a>"
      ]
    },
    {
      "cell_type": "markdown",
      "source": [
        "# Cabeçalho"
      ],
      "metadata": {
        "id": "l2otm3axTesp"
      }
    },
    {
      "cell_type": "markdown",
      "source": [
        "<div align=\"center\">\n",
        "<center><img src=\"https://eloconcursos.com.br/_arquivos/imagens/10564747415991c74f9a2443.41388016.jpg\" width=\"120px\"/></center>\n",
        "UNIVERSIDADE FEDERAL DO MARANHÃO – UFMA <br>\n",
        "CENTRO DE CIÊNCIAS EXATAS E TECNOLOGIA – CCET <br>\n",
        "DISCIPLINA: INTELIENCIA ARTIFICIAL <br>\n",
        "CIENCIA DA COMPUTAÇÃO\n",
        "</div>\n",
        "\n",
        "<br><br>\n",
        "<div align=\"center\">\n",
        "NERVAL DE JESUS SANTOS JUNIOR<br>\n",
        "FELIPE ROGERIO SILVA TELES<br>\n",
        "JOÃO LEONARDO PAIXÃO DE OLIVEIRA<br>\n",
        "RODRIGO PONTES OLIVEIRA<br>\n",
        "<div align=\"center\">Discentes</div>\n",
        "<br>\n",
        "\n",
        "\n",
        "\n",
        "\n",
        "<center>TIAGO BONINI BORCHARTT</center><br>\n",
        "<center>Docente Responsável</center>\n",
        "</div>\n",
        "\n",
        "\n",
        "\n",
        "\n",
        "## <center>IMPLEMENTAÇÃO DE REDES NEURAIS PARA GERAÇÃO DO MODELO DE SOLUÇÃO DO ÍNDICE DE FIRJAN</center>\n",
        "\n",
        "\n",
        "\n",
        "\n",
        "\n",
        "\n",
        "\n",
        "\n",
        "\n",
        "\n",
        "\n",
        "\n",
        "### <center>São Luís - MA </center>\n",
        "\n",
        "### <center>2023</center>\n"
      ],
      "metadata": {
        "id": "u2e_uenOO_zj"
      }
    },
    {
      "cell_type": "markdown",
      "source": [
        "# Inteligência Artificial\n",
        "## Trabalho Final 2023.1\n"
      ],
      "metadata": {
        "id": "qeG4WkBHLGle"
      }
    },
    {
      "cell_type": "markdown",
      "source": [
        "###A implementação da rede neural servirá para estimar valores do indice de firjan.\n",
        "\n",
        "#### Para isso faz-se necessario coletar dados necessarios para o treinamento da rede neural.\n",
        "\n",
        "### Dividir a base de dados em um conjunto de dados de treino e de validação\n",
        "\n",
        "o conjunto de base de treino é utilizado para o treino da rede neural enquando o de validação avaliar o desempenho da rede neural treinada\n"
      ],
      "metadata": {
        "id": "Kh7p117dz2js"
      }
    },
    {
      "cell_type": "markdown",
      "source": [
        "## importando bibliotecas importantes para analise e manipulação do dataset\n"
      ],
      "metadata": {
        "id": "n3xRX01yOQaS"
      }
    },
    {
      "cell_type": "code",
      "source": [
        "import pandas as pd\n",
        "import numpy as np\n",
        "import matplotlib\n",
        "import matplotlib.pyplot as plt\n",
        "import plotly.express as px\n",
        "import random"
      ],
      "metadata": {
        "id": "7Mzal0rPIieL"
      },
      "execution_count": null,
      "outputs": []
    },
    {
      "cell_type": "code",
      "source": [
        "from google.colab import drive\n",
        "\n",
        "drive.mount('/content/drive')"
      ],
      "metadata": {
        "colab": {
          "base_uri": "https://localhost:8080/"
        },
        "id": "ShFBn5Lo_ZyF",
        "outputId": "502e7056-d05c-4045-fffa-31fb3794b716"
      },
      "execution_count": null,
      "outputs": [
        {
          "output_type": "stream",
          "name": "stdout",
          "text": [
            "Mounted at /content/drive\n"
          ]
        }
      ]
    },
    {
      "cell_type": "markdown",
      "source": [
        "## carregamento do arquivo da base de dados de treinamento\n"
      ],
      "metadata": {
        "id": "bEf-v5NIwP_l"
      }
    },
    {
      "cell_type": "code",
      "source": [
        "df_treinamento_supervisionado = pd.read_csv('/content/drive/MyDrive/IA/Base_Treinamento_Supervisionado.csv', encoding=\"ISO-8859-1\",sep=\";\")\n",
        "df_treinamento_supervisionado.tail()"
      ],
      "metadata": {
        "colab": {
          "base_uri": "https://localhost:8080/",
          "height": 426
        },
        "id": "QbTfe6ts_ziE",
        "outputId": "7f3603d6-b79f-4ab8-af56-d3685e17cca2"
      },
      "execution_count": null,
      "outputs": [
        {
          "output_type": "execute_result",
          "data": {
            "text/plain": [
              "             Município    IFGF Total de receitas realizadas (R$x1000)  \\\n",
              "166      Vargem Grande   0,297                               95867,34   \n",
              "167              Viana  0,3078                               92120,11   \n",
              "168  Vitória do Mearim   0,433                               92120,11   \n",
              "169    Vitorino Freire  0,3137                               92120,11   \n",
              "170            Zé Doca  0,5691                               92120,11   \n",
              "\n",
              "    Total de despesas empenhadas (R$x1000)   IDHm PIB per capita  \\\n",
              "166                               92155,89  0,542        6630,45   \n",
              "167                               89952,74  0,618        8663,99   \n",
              "168                               60752,47  0,596        7895,55   \n",
              "169                               62014,71   0,57        8444,18   \n",
              "170                               84989,72  0,595        8779,78   \n",
              "\n",
              "    Percentual das receitas oriundas de fontes externas (%)  Área territorial  \\\n",
              "166                                                NaN                1958702   \n",
              "167                                               94,8                1166745   \n",
              "168                                               91,5                 716719   \n",
              "169                                                NaN                1193385   \n",
              "170                                               96,2                2140109   \n",
              "\n",
              "     População  Pessoal ocupado Percentual população ocupada Área Urbanizada  \\\n",
              "166      57813             2575                          4,5            7,96   \n",
              "167      52852             2521                          4,8             8,8   \n",
              "168      32956             1558                          4,7             6,4   \n",
              "169      31520             2098                          6,7            6,57   \n",
              "170      52190             3225                          6,2           11,31   \n",
              "\n",
              "    Salário Médio dos trabalhadores (xSalário mínimo)  \\\n",
              "166                                                 2   \n",
              "167                                               1,9   \n",
              "168                                               1,9   \n",
              "169                                                 2   \n",
              "170                                               1,7   \n",
              "\n",
              "     Matrículas no ensino fundamental  Matrículas no ensino médio  \\\n",
              "166                              8200                        1740   \n",
              "167                              8708                        2298   \n",
              "168                              5296                        1685   \n",
              "169                              4563                        1367   \n",
              "170                              7021                        1852   \n",
              "\n",
              "     Docentes no ensino fundamental  Docentes no ensino médio  \\\n",
              "166                             346                       136   \n",
              "167                             511                        94   \n",
              "168                             361                        72   \n",
              "169                             375                        67   \n",
              "170                             483                       154   \n",
              "\n",
              "    Mortalidade Infantil  \n",
              "166                 9,78  \n",
              "167                14,07  \n",
              "168                10,89  \n",
              "169                16,24  \n",
              "170                19,89  "
            ],
            "text/html": [
              "\n",
              "  <div id=\"df-6c5fdd90-e2d1-4603-b04b-1f596b02a1a2\">\n",
              "    <div class=\"colab-df-container\">\n",
              "      <div>\n",
              "<style scoped>\n",
              "    .dataframe tbody tr th:only-of-type {\n",
              "        vertical-align: middle;\n",
              "    }\n",
              "\n",
              "    .dataframe tbody tr th {\n",
              "        vertical-align: top;\n",
              "    }\n",
              "\n",
              "    .dataframe thead th {\n",
              "        text-align: right;\n",
              "    }\n",
              "</style>\n",
              "<table border=\"1\" class=\"dataframe\">\n",
              "  <thead>\n",
              "    <tr style=\"text-align: right;\">\n",
              "      <th></th>\n",
              "      <th>Município</th>\n",
              "      <th>IFGF</th>\n",
              "      <th>Total de receitas realizadas (R$x1000)</th>\n",
              "      <th>Total de despesas empenhadas (R$x1000)</th>\n",
              "      <th>IDHm</th>\n",
              "      <th>PIB per capita</th>\n",
              "      <th>Percentual das receitas oriundas de fontes externas (%)</th>\n",
              "      <th>Área territorial</th>\n",
              "      <th>População</th>\n",
              "      <th>Pessoal ocupado</th>\n",
              "      <th>Percentual população ocupada</th>\n",
              "      <th>Área Urbanizada</th>\n",
              "      <th>Salário Médio dos trabalhadores (xSalário mínimo)</th>\n",
              "      <th>Matrículas no ensino fundamental</th>\n",
              "      <th>Matrículas no ensino médio</th>\n",
              "      <th>Docentes no ensino fundamental</th>\n",
              "      <th>Docentes no ensino médio</th>\n",
              "      <th>Mortalidade Infantil</th>\n",
              "    </tr>\n",
              "  </thead>\n",
              "  <tbody>\n",
              "    <tr>\n",
              "      <th>166</th>\n",
              "      <td>Vargem Grande</td>\n",
              "      <td>0,297</td>\n",
              "      <td>95867,34</td>\n",
              "      <td>92155,89</td>\n",
              "      <td>0,542</td>\n",
              "      <td>6630,45</td>\n",
              "      <td>NaN</td>\n",
              "      <td>1958702</td>\n",
              "      <td>57813</td>\n",
              "      <td>2575</td>\n",
              "      <td>4,5</td>\n",
              "      <td>7,96</td>\n",
              "      <td>2</td>\n",
              "      <td>8200</td>\n",
              "      <td>1740</td>\n",
              "      <td>346</td>\n",
              "      <td>136</td>\n",
              "      <td>9,78</td>\n",
              "    </tr>\n",
              "    <tr>\n",
              "      <th>167</th>\n",
              "      <td>Viana</td>\n",
              "      <td>0,3078</td>\n",
              "      <td>92120,11</td>\n",
              "      <td>89952,74</td>\n",
              "      <td>0,618</td>\n",
              "      <td>8663,99</td>\n",
              "      <td>94,8</td>\n",
              "      <td>1166745</td>\n",
              "      <td>52852</td>\n",
              "      <td>2521</td>\n",
              "      <td>4,8</td>\n",
              "      <td>8,8</td>\n",
              "      <td>1,9</td>\n",
              "      <td>8708</td>\n",
              "      <td>2298</td>\n",
              "      <td>511</td>\n",
              "      <td>94</td>\n",
              "      <td>14,07</td>\n",
              "    </tr>\n",
              "    <tr>\n",
              "      <th>168</th>\n",
              "      <td>Vitória do Mearim</td>\n",
              "      <td>0,433</td>\n",
              "      <td>92120,11</td>\n",
              "      <td>60752,47</td>\n",
              "      <td>0,596</td>\n",
              "      <td>7895,55</td>\n",
              "      <td>91,5</td>\n",
              "      <td>716719</td>\n",
              "      <td>32956</td>\n",
              "      <td>1558</td>\n",
              "      <td>4,7</td>\n",
              "      <td>6,4</td>\n",
              "      <td>1,9</td>\n",
              "      <td>5296</td>\n",
              "      <td>1685</td>\n",
              "      <td>361</td>\n",
              "      <td>72</td>\n",
              "      <td>10,89</td>\n",
              "    </tr>\n",
              "    <tr>\n",
              "      <th>169</th>\n",
              "      <td>Vitorino Freire</td>\n",
              "      <td>0,3137</td>\n",
              "      <td>92120,11</td>\n",
              "      <td>62014,71</td>\n",
              "      <td>0,57</td>\n",
              "      <td>8444,18</td>\n",
              "      <td>NaN</td>\n",
              "      <td>1193385</td>\n",
              "      <td>31520</td>\n",
              "      <td>2098</td>\n",
              "      <td>6,7</td>\n",
              "      <td>6,57</td>\n",
              "      <td>2</td>\n",
              "      <td>4563</td>\n",
              "      <td>1367</td>\n",
              "      <td>375</td>\n",
              "      <td>67</td>\n",
              "      <td>16,24</td>\n",
              "    </tr>\n",
              "    <tr>\n",
              "      <th>170</th>\n",
              "      <td>Zé Doca</td>\n",
              "      <td>0,5691</td>\n",
              "      <td>92120,11</td>\n",
              "      <td>84989,72</td>\n",
              "      <td>0,595</td>\n",
              "      <td>8779,78</td>\n",
              "      <td>96,2</td>\n",
              "      <td>2140109</td>\n",
              "      <td>52190</td>\n",
              "      <td>3225</td>\n",
              "      <td>6,2</td>\n",
              "      <td>11,31</td>\n",
              "      <td>1,7</td>\n",
              "      <td>7021</td>\n",
              "      <td>1852</td>\n",
              "      <td>483</td>\n",
              "      <td>154</td>\n",
              "      <td>19,89</td>\n",
              "    </tr>\n",
              "  </tbody>\n",
              "</table>\n",
              "</div>\n",
              "      <button class=\"colab-df-convert\" onclick=\"convertToInteractive('df-6c5fdd90-e2d1-4603-b04b-1f596b02a1a2')\"\n",
              "              title=\"Convert this dataframe to an interactive table.\"\n",
              "              style=\"display:none;\">\n",
              "        \n",
              "  <svg xmlns=\"http://www.w3.org/2000/svg\" height=\"24px\"viewBox=\"0 0 24 24\"\n",
              "       width=\"24px\">\n",
              "    <path d=\"M0 0h24v24H0V0z\" fill=\"none\"/>\n",
              "    <path d=\"M18.56 5.44l.94 2.06.94-2.06 2.06-.94-2.06-.94-.94-2.06-.94 2.06-2.06.94zm-11 1L8.5 8.5l.94-2.06 2.06-.94-2.06-.94L8.5 2.5l-.94 2.06-2.06.94zm10 10l.94 2.06.94-2.06 2.06-.94-2.06-.94-.94-2.06-.94 2.06-2.06.94z\"/><path d=\"M17.41 7.96l-1.37-1.37c-.4-.4-.92-.59-1.43-.59-.52 0-1.04.2-1.43.59L10.3 9.45l-7.72 7.72c-.78.78-.78 2.05 0 2.83L4 21.41c.39.39.9.59 1.41.59.51 0 1.02-.2 1.41-.59l7.78-7.78 2.81-2.81c.8-.78.8-2.07 0-2.86zM5.41 20L4 18.59l7.72-7.72 1.47 1.35L5.41 20z\"/>\n",
              "  </svg>\n",
              "      </button>\n",
              "      \n",
              "  <style>\n",
              "    .colab-df-container {\n",
              "      display:flex;\n",
              "      flex-wrap:wrap;\n",
              "      gap: 12px;\n",
              "    }\n",
              "\n",
              "    .colab-df-convert {\n",
              "      background-color: #E8F0FE;\n",
              "      border: none;\n",
              "      border-radius: 50%;\n",
              "      cursor: pointer;\n",
              "      display: none;\n",
              "      fill: #1967D2;\n",
              "      height: 32px;\n",
              "      padding: 0 0 0 0;\n",
              "      width: 32px;\n",
              "    }\n",
              "\n",
              "    .colab-df-convert:hover {\n",
              "      background-color: #E2EBFA;\n",
              "      box-shadow: 0px 1px 2px rgba(60, 64, 67, 0.3), 0px 1px 3px 1px rgba(60, 64, 67, 0.15);\n",
              "      fill: #174EA6;\n",
              "    }\n",
              "\n",
              "    [theme=dark] .colab-df-convert {\n",
              "      background-color: #3B4455;\n",
              "      fill: #D2E3FC;\n",
              "    }\n",
              "\n",
              "    [theme=dark] .colab-df-convert:hover {\n",
              "      background-color: #434B5C;\n",
              "      box-shadow: 0px 1px 3px 1px rgba(0, 0, 0, 0.15);\n",
              "      filter: drop-shadow(0px 1px 2px rgba(0, 0, 0, 0.3));\n",
              "      fill: #FFFFFF;\n",
              "    }\n",
              "  </style>\n",
              "\n",
              "      <script>\n",
              "        const buttonEl =\n",
              "          document.querySelector('#df-6c5fdd90-e2d1-4603-b04b-1f596b02a1a2 button.colab-df-convert');\n",
              "        buttonEl.style.display =\n",
              "          google.colab.kernel.accessAllowed ? 'block' : 'none';\n",
              "\n",
              "        async function convertToInteractive(key) {\n",
              "          const element = document.querySelector('#df-6c5fdd90-e2d1-4603-b04b-1f596b02a1a2');\n",
              "          const dataTable =\n",
              "            await google.colab.kernel.invokeFunction('convertToInteractive',\n",
              "                                                     [key], {});\n",
              "          if (!dataTable) return;\n",
              "\n",
              "          const docLinkHtml = 'Like what you see? Visit the ' +\n",
              "            '<a target=\"_blank\" href=https://colab.research.google.com/notebooks/data_table.ipynb>data table notebook</a>'\n",
              "            + ' to learn more about interactive tables.';\n",
              "          element.innerHTML = '';\n",
              "          dataTable['output_type'] = 'display_data';\n",
              "          await google.colab.output.renderOutput(dataTable, element);\n",
              "          const docLink = document.createElement('div');\n",
              "          docLink.innerHTML = docLinkHtml;\n",
              "          element.appendChild(docLink);\n",
              "        }\n",
              "      </script>\n",
              "    </div>\n",
              "  </div>\n",
              "  "
            ]
          },
          "metadata": {},
          "execution_count": 4
        }
      ]
    },
    {
      "cell_type": "markdown",
      "source": [
        "É possivel observar  no dataset tabelas com valores que utilizaremos para serem as entradas para nossa rede neural"
      ],
      "metadata": {
        "id": "z0KGl-EjwC5k"
      }
    },
    {
      "cell_type": "markdown",
      "source": [
        "### fazendo o casting dos valores do IFGF"
      ],
      "metadata": {
        "id": "lDoo8Ej5wm2g"
      }
    },
    {
      "cell_type": "code",
      "source": [
        "df_treinamento_supervisionado['IFGF'].replace(',','.',regex=True)"
      ],
      "metadata": {
        "colab": {
          "base_uri": "https://localhost:8080/"
        },
        "id": "fnrRXxDDjlWf",
        "outputId": "81026be2-5b42-49ed-8f7d-50edee5312c1"
      },
      "execution_count": null,
      "outputs": [
        {
          "output_type": "execute_result",
          "data": {
            "text/plain": [
              "0      0.6772\n",
              "1      0.2418\n",
              "2       0.387\n",
              "3      0.4069\n",
              "4      0.3227\n",
              "        ...  \n",
              "166     0.297\n",
              "167    0.3078\n",
              "168     0.433\n",
              "169    0.3137\n",
              "170    0.5691\n",
              "Name: IFGF, Length: 171, dtype: object"
            ]
          },
          "metadata": {},
          "execution_count": 5
        }
      ]
    },
    {
      "cell_type": "markdown",
      "source": [
        "## Carregamento da base de dados que aplicaremos o modelo criado"
      ],
      "metadata": {
        "id": "duYCH6zuKjfY"
      }
    },
    {
      "cell_type": "code",
      "source": [
        "from google.colab import drive\n",
        "drive.mount('/content/drive')"
      ],
      "metadata": {
        "id": "SnjOpCRawzI_",
        "colab": {
          "base_uri": "https://localhost:8080/"
        },
        "outputId": "cc7f4c84-d681-477c-f02d-d4b9534d04a6"
      },
      "execution_count": null,
      "outputs": [
        {
          "output_type": "stream",
          "name": "stdout",
          "text": [
            "Drive already mounted at /content/drive; to attempt to forcibly remount, call drive.mount(\"/content/drive\", force_remount=True).\n"
          ]
        }
      ]
    },
    {
      "cell_type": "markdown",
      "source": [
        "  queremos encontrar os valores do <code>IFGF</code> que estão com <code>?</code> indicados abaixo"
      ],
      "metadata": {
        "id": "axKcDB3vK3dO"
      }
    },
    {
      "cell_type": "code",
      "source": [
        "\n",
        "df_base_de_dados = pd.read_csv('/content/drive/MyDrive/IA/base_de_avaliacao.csv',sep=\";\")\n",
        "df_base_de_dados.head()"
      ],
      "metadata": {
        "colab": {
          "base_uri": "https://localhost:8080/",
          "height": 461
        },
        "id": "vRxNyIRlAFip",
        "outputId": "597c9aa7-c6b0-479f-b4f8-e548877bb5e2"
      },
      "execution_count": null,
      "outputs": [
        {
          "output_type": "execute_result",
          "data": {
            "text/plain": [
              "                 Município IFGF Total de receitas realizadas (R$x1000)  \\\n",
              "0  Alto Alegre do Maranhão    ?                               48180,12   \n",
              "1                    Arame    ?                               69273,85   \n",
              "2          Barão de Grajaú    ?                               39740,96   \n",
              "3                   Cajari    ?                               41227,11   \n",
              "4    Conceição do Lago-Açu    ?                               35309,92   \n",
              "\n",
              "  Total de despesas empenhadas (R$x1000)   IDHm PIB per capita  \\\n",
              "0                               47273,24  0,554        8770,52   \n",
              "1                               71709,47  0,521        5902,11   \n",
              "2                                40114,7  0,592       11816,72   \n",
              "3                               34447,37  0,523        5748,61   \n",
              "4                               33722,37  0,512        8146,21   \n",
              "\n",
              "  Percentual das receitas oriundas de fontes externas (%)  Área territorial  \\\n",
              "0                                               95,4                 392750   \n",
              "1                                                NaN                1789730   \n",
              "2                                               97,5                2209414   \n",
              "3                                               98,5                 662066   \n",
              "4                                               99,1                 725664   \n",
              "\n",
              "   População  Pessoal ocupado Percentual população ocupada Área Urbanizada  \\\n",
              "0      28066              978                          3,5            6,56   \n",
              "1      47095             2146                          4,6            9,38   \n",
              "2      19026             1581                          8,4            5,19   \n",
              "3      19521              642                          3,3            2,04   \n",
              "4      16559              787                          4,8            2,28   \n",
              "\n",
              "  Salário Médio dos trabalhadores (xSalário mínimo)  \\\n",
              "0                                               1,5   \n",
              "1                                               2,1   \n",
              "2                                               1,6   \n",
              "3                                               1,7   \n",
              "4                                               2,4   \n",
              "\n",
              "   Matrículas no ensino fundamental  Matrículas no ensino médio  \\\n",
              "0                              4260                        1166   \n",
              "1                              6620                        1450   \n",
              "2                              2571                         735   \n",
              "3                              3413                         673   \n",
              "4                              3428                         423   \n",
              "\n",
              "   Docentes no ensino fundamental  Docentes no ensino médio  \\\n",
              "0                             276                        46   \n",
              "1                             446                        78   \n",
              "2                             190                        52   \n",
              "3                             311                        26   \n",
              "4                             260                        17   \n",
              "\n",
              "  Mortalidade Infantil  \n",
              "0                15,11  \n",
              "1                12,68  \n",
              "2                14,98  \n",
              "3                19,61  \n",
              "4                20,75  "
            ],
            "text/html": [
              "\n",
              "  <div id=\"df-7047ac46-9442-480f-8609-b3f2820f7f58\">\n",
              "    <div class=\"colab-df-container\">\n",
              "      <div>\n",
              "<style scoped>\n",
              "    .dataframe tbody tr th:only-of-type {\n",
              "        vertical-align: middle;\n",
              "    }\n",
              "\n",
              "    .dataframe tbody tr th {\n",
              "        vertical-align: top;\n",
              "    }\n",
              "\n",
              "    .dataframe thead th {\n",
              "        text-align: right;\n",
              "    }\n",
              "</style>\n",
              "<table border=\"1\" class=\"dataframe\">\n",
              "  <thead>\n",
              "    <tr style=\"text-align: right;\">\n",
              "      <th></th>\n",
              "      <th>Município</th>\n",
              "      <th>IFGF</th>\n",
              "      <th>Total de receitas realizadas (R$x1000)</th>\n",
              "      <th>Total de despesas empenhadas (R$x1000)</th>\n",
              "      <th>IDHm</th>\n",
              "      <th>PIB per capita</th>\n",
              "      <th>Percentual das receitas oriundas de fontes externas (%)</th>\n",
              "      <th>Área territorial</th>\n",
              "      <th>População</th>\n",
              "      <th>Pessoal ocupado</th>\n",
              "      <th>Percentual população ocupada</th>\n",
              "      <th>Área Urbanizada</th>\n",
              "      <th>Salário Médio dos trabalhadores (xSalário mínimo)</th>\n",
              "      <th>Matrículas no ensino fundamental</th>\n",
              "      <th>Matrículas no ensino médio</th>\n",
              "      <th>Docentes no ensino fundamental</th>\n",
              "      <th>Docentes no ensino médio</th>\n",
              "      <th>Mortalidade Infantil</th>\n",
              "    </tr>\n",
              "  </thead>\n",
              "  <tbody>\n",
              "    <tr>\n",
              "      <th>0</th>\n",
              "      <td>Alto Alegre do Maranhão</td>\n",
              "      <td>?</td>\n",
              "      <td>48180,12</td>\n",
              "      <td>47273,24</td>\n",
              "      <td>0,554</td>\n",
              "      <td>8770,52</td>\n",
              "      <td>95,4</td>\n",
              "      <td>392750</td>\n",
              "      <td>28066</td>\n",
              "      <td>978</td>\n",
              "      <td>3,5</td>\n",
              "      <td>6,56</td>\n",
              "      <td>1,5</td>\n",
              "      <td>4260</td>\n",
              "      <td>1166</td>\n",
              "      <td>276</td>\n",
              "      <td>46</td>\n",
              "      <td>15,11</td>\n",
              "    </tr>\n",
              "    <tr>\n",
              "      <th>1</th>\n",
              "      <td>Arame</td>\n",
              "      <td>?</td>\n",
              "      <td>69273,85</td>\n",
              "      <td>71709,47</td>\n",
              "      <td>0,521</td>\n",
              "      <td>5902,11</td>\n",
              "      <td>NaN</td>\n",
              "      <td>1789730</td>\n",
              "      <td>47095</td>\n",
              "      <td>2146</td>\n",
              "      <td>4,6</td>\n",
              "      <td>9,38</td>\n",
              "      <td>2,1</td>\n",
              "      <td>6620</td>\n",
              "      <td>1450</td>\n",
              "      <td>446</td>\n",
              "      <td>78</td>\n",
              "      <td>12,68</td>\n",
              "    </tr>\n",
              "    <tr>\n",
              "      <th>2</th>\n",
              "      <td>Barão de Grajaú</td>\n",
              "      <td>?</td>\n",
              "      <td>39740,96</td>\n",
              "      <td>40114,7</td>\n",
              "      <td>0,592</td>\n",
              "      <td>11816,72</td>\n",
              "      <td>97,5</td>\n",
              "      <td>2209414</td>\n",
              "      <td>19026</td>\n",
              "      <td>1581</td>\n",
              "      <td>8,4</td>\n",
              "      <td>5,19</td>\n",
              "      <td>1,6</td>\n",
              "      <td>2571</td>\n",
              "      <td>735</td>\n",
              "      <td>190</td>\n",
              "      <td>52</td>\n",
              "      <td>14,98</td>\n",
              "    </tr>\n",
              "    <tr>\n",
              "      <th>3</th>\n",
              "      <td>Cajari</td>\n",
              "      <td>?</td>\n",
              "      <td>41227,11</td>\n",
              "      <td>34447,37</td>\n",
              "      <td>0,523</td>\n",
              "      <td>5748,61</td>\n",
              "      <td>98,5</td>\n",
              "      <td>662066</td>\n",
              "      <td>19521</td>\n",
              "      <td>642</td>\n",
              "      <td>3,3</td>\n",
              "      <td>2,04</td>\n",
              "      <td>1,7</td>\n",
              "      <td>3413</td>\n",
              "      <td>673</td>\n",
              "      <td>311</td>\n",
              "      <td>26</td>\n",
              "      <td>19,61</td>\n",
              "    </tr>\n",
              "    <tr>\n",
              "      <th>4</th>\n",
              "      <td>Conceição do Lago-Açu</td>\n",
              "      <td>?</td>\n",
              "      <td>35309,92</td>\n",
              "      <td>33722,37</td>\n",
              "      <td>0,512</td>\n",
              "      <td>8146,21</td>\n",
              "      <td>99,1</td>\n",
              "      <td>725664</td>\n",
              "      <td>16559</td>\n",
              "      <td>787</td>\n",
              "      <td>4,8</td>\n",
              "      <td>2,28</td>\n",
              "      <td>2,4</td>\n",
              "      <td>3428</td>\n",
              "      <td>423</td>\n",
              "      <td>260</td>\n",
              "      <td>17</td>\n",
              "      <td>20,75</td>\n",
              "    </tr>\n",
              "  </tbody>\n",
              "</table>\n",
              "</div>\n",
              "      <button class=\"colab-df-convert\" onclick=\"convertToInteractive('df-7047ac46-9442-480f-8609-b3f2820f7f58')\"\n",
              "              title=\"Convert this dataframe to an interactive table.\"\n",
              "              style=\"display:none;\">\n",
              "        \n",
              "  <svg xmlns=\"http://www.w3.org/2000/svg\" height=\"24px\"viewBox=\"0 0 24 24\"\n",
              "       width=\"24px\">\n",
              "    <path d=\"M0 0h24v24H0V0z\" fill=\"none\"/>\n",
              "    <path d=\"M18.56 5.44l.94 2.06.94-2.06 2.06-.94-2.06-.94-.94-2.06-.94 2.06-2.06.94zm-11 1L8.5 8.5l.94-2.06 2.06-.94-2.06-.94L8.5 2.5l-.94 2.06-2.06.94zm10 10l.94 2.06.94-2.06 2.06-.94-2.06-.94-.94-2.06-.94 2.06-2.06.94z\"/><path d=\"M17.41 7.96l-1.37-1.37c-.4-.4-.92-.59-1.43-.59-.52 0-1.04.2-1.43.59L10.3 9.45l-7.72 7.72c-.78.78-.78 2.05 0 2.83L4 21.41c.39.39.9.59 1.41.59.51 0 1.02-.2 1.41-.59l7.78-7.78 2.81-2.81c.8-.78.8-2.07 0-2.86zM5.41 20L4 18.59l7.72-7.72 1.47 1.35L5.41 20z\"/>\n",
              "  </svg>\n",
              "      </button>\n",
              "      \n",
              "  <style>\n",
              "    .colab-df-container {\n",
              "      display:flex;\n",
              "      flex-wrap:wrap;\n",
              "      gap: 12px;\n",
              "    }\n",
              "\n",
              "    .colab-df-convert {\n",
              "      background-color: #E8F0FE;\n",
              "      border: none;\n",
              "      border-radius: 50%;\n",
              "      cursor: pointer;\n",
              "      display: none;\n",
              "      fill: #1967D2;\n",
              "      height: 32px;\n",
              "      padding: 0 0 0 0;\n",
              "      width: 32px;\n",
              "    }\n",
              "\n",
              "    .colab-df-convert:hover {\n",
              "      background-color: #E2EBFA;\n",
              "      box-shadow: 0px 1px 2px rgba(60, 64, 67, 0.3), 0px 1px 3px 1px rgba(60, 64, 67, 0.15);\n",
              "      fill: #174EA6;\n",
              "    }\n",
              "\n",
              "    [theme=dark] .colab-df-convert {\n",
              "      background-color: #3B4455;\n",
              "      fill: #D2E3FC;\n",
              "    }\n",
              "\n",
              "    [theme=dark] .colab-df-convert:hover {\n",
              "      background-color: #434B5C;\n",
              "      box-shadow: 0px 1px 3px 1px rgba(0, 0, 0, 0.15);\n",
              "      filter: drop-shadow(0px 1px 2px rgba(0, 0, 0, 0.3));\n",
              "      fill: #FFFFFF;\n",
              "    }\n",
              "  </style>\n",
              "\n",
              "      <script>\n",
              "        const buttonEl =\n",
              "          document.querySelector('#df-7047ac46-9442-480f-8609-b3f2820f7f58 button.colab-df-convert');\n",
              "        buttonEl.style.display =\n",
              "          google.colab.kernel.accessAllowed ? 'block' : 'none';\n",
              "\n",
              "        async function convertToInteractive(key) {\n",
              "          const element = document.querySelector('#df-7047ac46-9442-480f-8609-b3f2820f7f58');\n",
              "          const dataTable =\n",
              "            await google.colab.kernel.invokeFunction('convertToInteractive',\n",
              "                                                     [key], {});\n",
              "          if (!dataTable) return;\n",
              "\n",
              "          const docLinkHtml = 'Like what you see? Visit the ' +\n",
              "            '<a target=\"_blank\" href=https://colab.research.google.com/notebooks/data_table.ipynb>data table notebook</a>'\n",
              "            + ' to learn more about interactive tables.';\n",
              "          element.innerHTML = '';\n",
              "          dataTable['output_type'] = 'display_data';\n",
              "          await google.colab.output.renderOutput(dataTable, element);\n",
              "          const docLink = document.createElement('div');\n",
              "          docLink.innerHTML = docLinkHtml;\n",
              "          element.appendChild(docLink);\n",
              "        }\n",
              "      </script>\n",
              "    </div>\n",
              "  </div>\n",
              "  "
            ]
          },
          "metadata": {},
          "execution_count": 97
        }
      ]
    },
    {
      "cell_type": "markdown",
      "source": [
        "### Fazendo importação do tensorflow"
      ],
      "metadata": {
        "id": "JqeQZcUVLQUG"
      }
    },
    {
      "cell_type": "code",
      "source": [
        "import tensorflow as tf"
      ],
      "metadata": {
        "id": "xMSMHJxTHMf9"
      },
      "execution_count": null,
      "outputs": []
    },
    {
      "cell_type": "markdown",
      "source": [
        "#A seguir considerações importantes"
      ],
      "metadata": {
        "id": "6-siEK3vLdeE"
      }
    },
    {
      "cell_type": "markdown",
      "source": [
        "### Neste trabalho iremos desenvolver uma rede neural para solucionar o problema da cadeira de inteligencia Artificial\n"
      ],
      "metadata": {
        "id": "Ou61p8GXHcLB"
      }
    },
    {
      "cell_type": "markdown",
      "source": [
        "➢ A base de dados é do Índice Firjan, que é composto por quatro indicadores que\n",
        "representam o quanto um município está sendo bem administrado:\n",
        "\n",
        "➢ Autonomia, que é a capacidade de financiar a estrutura administrativa;\n",
        "\n",
        "➢ Gastos com Pessoal, que significa o grau de rigidez do orçamento;\n",
        "\n",
        "➢ Liquidez, que trata do cumprimento das obrigações financeiras das prefeituras;\n",
        "\n",
        "➢ Investimentos, que é a capacidade de gerar bem-estar e competitividade.\n",
        "\n",
        "➢ Acompanham os dados do Índice Firjan informações geopolíticas e econômicas de\n",
        "cada município."
      ],
      "metadata": {
        "id": "cQTEjPKgLcZm"
      }
    },
    {
      "cell_type": "code",
      "source": [
        "df_treinamento_supervisionado.head()"
      ],
      "metadata": {
        "id": "evfuycqILgqc",
        "colab": {
          "base_uri": "https://localhost:8080/",
          "height": 478
        },
        "outputId": "644e1c0d-4088-41ce-e5f3-28847e8e3e5e"
      },
      "execution_count": null,
      "outputs": [
        {
          "output_type": "execute_result",
          "data": {
            "text/plain": [
              "                Município    IFGF Total de receitas realizadas (R$x1000)  \\\n",
              "0              Açailândia  0,6772                              276417,09   \n",
              "1    Altamira do Maranhão  0,2418                               28548,43   \n",
              "2  Alto Alegre do Pindaré   0,387                               70794,78   \n",
              "3           Alto Parnaíba  0,4069                               34241,63   \n",
              "4    Amarante do Maranhão  0,3227                               74474,98   \n",
              "\n",
              "  Total de despesas empenhadas (R$x1000)   IDHm PIB per capita  \\\n",
              "0                              247664,14  0,672       23683,22   \n",
              "1                               24977,85  0,549        7512,63   \n",
              "2                                68523,7  0,558        7221,77   \n",
              "3                               32154,06  0,633       43877,65   \n",
              "4                               67136,51  0,555         8010,3   \n",
              "\n",
              "  Percentual das receitas oriundas de fontes externas (%)  Área territorial  \\\n",
              "0                                               74,8                5805159   \n",
              "1                                               97,6                 524374   \n",
              "2                                               90,2                1875901   \n",
              "3                                               94,8               11127384   \n",
              "4                                               95,9                7439615   \n",
              "\n",
              "   População  Pessoal ocupado Percentual população ocupada Área Urbanizada  \\\n",
              "0     113783            16354                         14,5           28,63   \n",
              "1       8250              326                            4            1,45   \n",
              "2      31967             1260                          3,9            5,52   \n",
              "3      11233             1165                         10,4            3,07   \n",
              "4      42017             1592                          3,8            9,44   \n",
              "\n",
              "  Salário Médio dos trabalhadores (xSalário mínimo)  \\\n",
              "0                                               2,2   \n",
              "1                                               1,9   \n",
              "2                                               1,9   \n",
              "3                                               1,8   \n",
              "4                                               1,7   \n",
              "\n",
              "   Matrículas no ensino fundamental  Matrículas no ensino médio  \\\n",
              "0                             16830                        4379   \n",
              "1                              1140                         234   \n",
              "2                              5014                        1592   \n",
              "3                              1861                         333   \n",
              "4                              7290                        1370   \n",
              "\n",
              "   Docentes no ensino fundamental  Docentes no ensino médio  \\\n",
              "0                             771                       274   \n",
              "1                             111                         8   \n",
              "2                             325                       107   \n",
              "3                             130                        14   \n",
              "4                             556                       116   \n",
              "\n",
              "  Mortalidade Infantil  \n",
              "0                13,04  \n",
              "1                  NaN  \n",
              "2                20,45  \n",
              "3                20,94  \n",
              "4                17,83  "
            ],
            "text/html": [
              "\n",
              "  <div id=\"df-22e398b0-68e7-43ae-b270-9c64f6795e9d\">\n",
              "    <div class=\"colab-df-container\">\n",
              "      <div>\n",
              "<style scoped>\n",
              "    .dataframe tbody tr th:only-of-type {\n",
              "        vertical-align: middle;\n",
              "    }\n",
              "\n",
              "    .dataframe tbody tr th {\n",
              "        vertical-align: top;\n",
              "    }\n",
              "\n",
              "    .dataframe thead th {\n",
              "        text-align: right;\n",
              "    }\n",
              "</style>\n",
              "<table border=\"1\" class=\"dataframe\">\n",
              "  <thead>\n",
              "    <tr style=\"text-align: right;\">\n",
              "      <th></th>\n",
              "      <th>Município</th>\n",
              "      <th>IFGF</th>\n",
              "      <th>Total de receitas realizadas (R$x1000)</th>\n",
              "      <th>Total de despesas empenhadas (R$x1000)</th>\n",
              "      <th>IDHm</th>\n",
              "      <th>PIB per capita</th>\n",
              "      <th>Percentual das receitas oriundas de fontes externas (%)</th>\n",
              "      <th>Área territorial</th>\n",
              "      <th>População</th>\n",
              "      <th>Pessoal ocupado</th>\n",
              "      <th>Percentual população ocupada</th>\n",
              "      <th>Área Urbanizada</th>\n",
              "      <th>Salário Médio dos trabalhadores (xSalário mínimo)</th>\n",
              "      <th>Matrículas no ensino fundamental</th>\n",
              "      <th>Matrículas no ensino médio</th>\n",
              "      <th>Docentes no ensino fundamental</th>\n",
              "      <th>Docentes no ensino médio</th>\n",
              "      <th>Mortalidade Infantil</th>\n",
              "    </tr>\n",
              "  </thead>\n",
              "  <tbody>\n",
              "    <tr>\n",
              "      <th>0</th>\n",
              "      <td>Açailândia</td>\n",
              "      <td>0,6772</td>\n",
              "      <td>276417,09</td>\n",
              "      <td>247664,14</td>\n",
              "      <td>0,672</td>\n",
              "      <td>23683,22</td>\n",
              "      <td>74,8</td>\n",
              "      <td>5805159</td>\n",
              "      <td>113783</td>\n",
              "      <td>16354</td>\n",
              "      <td>14,5</td>\n",
              "      <td>28,63</td>\n",
              "      <td>2,2</td>\n",
              "      <td>16830</td>\n",
              "      <td>4379</td>\n",
              "      <td>771</td>\n",
              "      <td>274</td>\n",
              "      <td>13,04</td>\n",
              "    </tr>\n",
              "    <tr>\n",
              "      <th>1</th>\n",
              "      <td>Altamira do Maranhão</td>\n",
              "      <td>0,2418</td>\n",
              "      <td>28548,43</td>\n",
              "      <td>24977,85</td>\n",
              "      <td>0,549</td>\n",
              "      <td>7512,63</td>\n",
              "      <td>97,6</td>\n",
              "      <td>524374</td>\n",
              "      <td>8250</td>\n",
              "      <td>326</td>\n",
              "      <td>4</td>\n",
              "      <td>1,45</td>\n",
              "      <td>1,9</td>\n",
              "      <td>1140</td>\n",
              "      <td>234</td>\n",
              "      <td>111</td>\n",
              "      <td>8</td>\n",
              "      <td>NaN</td>\n",
              "    </tr>\n",
              "    <tr>\n",
              "      <th>2</th>\n",
              "      <td>Alto Alegre do Pindaré</td>\n",
              "      <td>0,387</td>\n",
              "      <td>70794,78</td>\n",
              "      <td>68523,7</td>\n",
              "      <td>0,558</td>\n",
              "      <td>7221,77</td>\n",
              "      <td>90,2</td>\n",
              "      <td>1875901</td>\n",
              "      <td>31967</td>\n",
              "      <td>1260</td>\n",
              "      <td>3,9</td>\n",
              "      <td>5,52</td>\n",
              "      <td>1,9</td>\n",
              "      <td>5014</td>\n",
              "      <td>1592</td>\n",
              "      <td>325</td>\n",
              "      <td>107</td>\n",
              "      <td>20,45</td>\n",
              "    </tr>\n",
              "    <tr>\n",
              "      <th>3</th>\n",
              "      <td>Alto Parnaíba</td>\n",
              "      <td>0,4069</td>\n",
              "      <td>34241,63</td>\n",
              "      <td>32154,06</td>\n",
              "      <td>0,633</td>\n",
              "      <td>43877,65</td>\n",
              "      <td>94,8</td>\n",
              "      <td>11127384</td>\n",
              "      <td>11233</td>\n",
              "      <td>1165</td>\n",
              "      <td>10,4</td>\n",
              "      <td>3,07</td>\n",
              "      <td>1,8</td>\n",
              "      <td>1861</td>\n",
              "      <td>333</td>\n",
              "      <td>130</td>\n",
              "      <td>14</td>\n",
              "      <td>20,94</td>\n",
              "    </tr>\n",
              "    <tr>\n",
              "      <th>4</th>\n",
              "      <td>Amarante do Maranhão</td>\n",
              "      <td>0,3227</td>\n",
              "      <td>74474,98</td>\n",
              "      <td>67136,51</td>\n",
              "      <td>0,555</td>\n",
              "      <td>8010,3</td>\n",
              "      <td>95,9</td>\n",
              "      <td>7439615</td>\n",
              "      <td>42017</td>\n",
              "      <td>1592</td>\n",
              "      <td>3,8</td>\n",
              "      <td>9,44</td>\n",
              "      <td>1,7</td>\n",
              "      <td>7290</td>\n",
              "      <td>1370</td>\n",
              "      <td>556</td>\n",
              "      <td>116</td>\n",
              "      <td>17,83</td>\n",
              "    </tr>\n",
              "  </tbody>\n",
              "</table>\n",
              "</div>\n",
              "      <button class=\"colab-df-convert\" onclick=\"convertToInteractive('df-22e398b0-68e7-43ae-b270-9c64f6795e9d')\"\n",
              "              title=\"Convert this dataframe to an interactive table.\"\n",
              "              style=\"display:none;\">\n",
              "        \n",
              "  <svg xmlns=\"http://www.w3.org/2000/svg\" height=\"24px\"viewBox=\"0 0 24 24\"\n",
              "       width=\"24px\">\n",
              "    <path d=\"M0 0h24v24H0V0z\" fill=\"none\"/>\n",
              "    <path d=\"M18.56 5.44l.94 2.06.94-2.06 2.06-.94-2.06-.94-.94-2.06-.94 2.06-2.06.94zm-11 1L8.5 8.5l.94-2.06 2.06-.94-2.06-.94L8.5 2.5l-.94 2.06-2.06.94zm10 10l.94 2.06.94-2.06 2.06-.94-2.06-.94-.94-2.06-.94 2.06-2.06.94z\"/><path d=\"M17.41 7.96l-1.37-1.37c-.4-.4-.92-.59-1.43-.59-.52 0-1.04.2-1.43.59L10.3 9.45l-7.72 7.72c-.78.78-.78 2.05 0 2.83L4 21.41c.39.39.9.59 1.41.59.51 0 1.02-.2 1.41-.59l7.78-7.78 2.81-2.81c.8-.78.8-2.07 0-2.86zM5.41 20L4 18.59l7.72-7.72 1.47 1.35L5.41 20z\"/>\n",
              "  </svg>\n",
              "      </button>\n",
              "      \n",
              "  <style>\n",
              "    .colab-df-container {\n",
              "      display:flex;\n",
              "      flex-wrap:wrap;\n",
              "      gap: 12px;\n",
              "    }\n",
              "\n",
              "    .colab-df-convert {\n",
              "      background-color: #E8F0FE;\n",
              "      border: none;\n",
              "      border-radius: 50%;\n",
              "      cursor: pointer;\n",
              "      display: none;\n",
              "      fill: #1967D2;\n",
              "      height: 32px;\n",
              "      padding: 0 0 0 0;\n",
              "      width: 32px;\n",
              "    }\n",
              "\n",
              "    .colab-df-convert:hover {\n",
              "      background-color: #E2EBFA;\n",
              "      box-shadow: 0px 1px 2px rgba(60, 64, 67, 0.3), 0px 1px 3px 1px rgba(60, 64, 67, 0.15);\n",
              "      fill: #174EA6;\n",
              "    }\n",
              "\n",
              "    [theme=dark] .colab-df-convert {\n",
              "      background-color: #3B4455;\n",
              "      fill: #D2E3FC;\n",
              "    }\n",
              "\n",
              "    [theme=dark] .colab-df-convert:hover {\n",
              "      background-color: #434B5C;\n",
              "      box-shadow: 0px 1px 3px 1px rgba(0, 0, 0, 0.15);\n",
              "      filter: drop-shadow(0px 1px 2px rgba(0, 0, 0, 0.3));\n",
              "      fill: #FFFFFF;\n",
              "    }\n",
              "  </style>\n",
              "\n",
              "      <script>\n",
              "        const buttonEl =\n",
              "          document.querySelector('#df-22e398b0-68e7-43ae-b270-9c64f6795e9d button.colab-df-convert');\n",
              "        buttonEl.style.display =\n",
              "          google.colab.kernel.accessAllowed ? 'block' : 'none';\n",
              "\n",
              "        async function convertToInteractive(key) {\n",
              "          const element = document.querySelector('#df-22e398b0-68e7-43ae-b270-9c64f6795e9d');\n",
              "          const dataTable =\n",
              "            await google.colab.kernel.invokeFunction('convertToInteractive',\n",
              "                                                     [key], {});\n",
              "          if (!dataTable) return;\n",
              "\n",
              "          const docLinkHtml = 'Like what you see? Visit the ' +\n",
              "            '<a target=\"_blank\" href=https://colab.research.google.com/notebooks/data_table.ipynb>data table notebook</a>'\n",
              "            + ' to learn more about interactive tables.';\n",
              "          element.innerHTML = '';\n",
              "          dataTable['output_type'] = 'display_data';\n",
              "          await google.colab.output.renderOutput(dataTable, element);\n",
              "          const docLink = document.createElement('div');\n",
              "          docLink.innerHTML = docLinkHtml;\n",
              "          element.appendChild(docLink);\n",
              "        }\n",
              "      </script>\n",
              "    </div>\n",
              "  </div>\n",
              "  "
            ]
          },
          "metadata": {},
          "execution_count": 99
        }
      ]
    },
    {
      "cell_type": "markdown",
      "source": [
        "O índice varia entre 0 e 1 e quanto maior, melhor é a gestão fiscal do\n",
        "município.\n",
        "\n",
        "➢ Cada cidade é classificada com conceitos:\n",
        "\n",
        "➢ A (Gestão de Excelência, acima de 0,8001 pontos),\n",
        "\n",
        "➢ B (Boa Gestão, entre 0,6001 e 0,8),\n",
        "\n",
        "➢ C (Gestão em Dificuldade, entre 0,4001 e 0,6) ou\n",
        "\n",
        "➢ D (Gestão Crítica, inferiores a 0,4 pontos)"
      ],
      "metadata": {
        "id": "me4_M9UDLsQ0"
      }
    },
    {
      "cell_type": "code",
      "source": [
        "df_treinamento_supervisionado.shape"
      ],
      "metadata": {
        "colab": {
          "base_uri": "https://localhost:8080/"
        },
        "id": "ra8g2z-QGl7o",
        "outputId": "06a48db1-26c9-4595-e88d-4e0dbe879b1d"
      },
      "execution_count": null,
      "outputs": [
        {
          "output_type": "execute_result",
          "data": {
            "text/plain": [
              "(171, 18)"
            ]
          },
          "metadata": {},
          "execution_count": 10
        }
      ]
    },
    {
      "cell_type": "markdown",
      "source": [
        "#### Dataset:\n",
        "- 18 colunas\n",
        "- 171 linhas"
      ],
      "metadata": {
        "id": "CzX8yvM-LqWe"
      }
    },
    {
      "cell_type": "markdown",
      "source": [
        "ou seja, eu tenho 171 municipios"
      ],
      "metadata": {
        "id": "BqsXhQWhnFRD"
      }
    },
    {
      "cell_type": "code",
      "source": [
        "df_treinamento_supervisionado.info()"
      ],
      "metadata": {
        "id": "bJRp9hj-LvVC",
        "colab": {
          "base_uri": "https://localhost:8080/"
        },
        "outputId": "f1878a01-f199-4c35-a9a5-8fe99b369fb8"
      },
      "execution_count": null,
      "outputs": [
        {
          "output_type": "stream",
          "name": "stdout",
          "text": [
            "<class 'pandas.core.frame.DataFrame'>\n",
            "RangeIndex: 171 entries, 0 to 170\n",
            "Data columns (total 18 columns):\n",
            " #   Column                                                   Non-Null Count  Dtype \n",
            "---  ------                                                   --------------  ----- \n",
            " 0   Município                                                171 non-null    object\n",
            " 1   IFGF                                                     171 non-null    object\n",
            " 2   Total de receitas realizadas (R$x1000)                   171 non-null    object\n",
            " 3   Total de despesas empenhadas (R$x1000)                   171 non-null    object\n",
            " 4   IDHm                                                     171 non-null    object\n",
            " 5   PIB per capita                                           171 non-null    object\n",
            " 6   Percentual das receitas oriundas de fontes externas (%)  126 non-null    object\n",
            " 7   Área territorial                                         171 non-null    int64 \n",
            " 8   População                                                171 non-null    int64 \n",
            " 9   Pessoal ocupado                                          171 non-null    int64 \n",
            " 10  Percentual população ocupada                             171 non-null    object\n",
            " 11  Área Urbanizada                                          171 non-null    object\n",
            " 12  Salário Médio dos trabalhadores (xSalário mínimo)        171 non-null    object\n",
            " 13  Matrículas no ensino fundamental                         171 non-null    int64 \n",
            " 14  Matrículas no ensino médio                               171 non-null    int64 \n",
            " 15  Docentes no ensino fundamental                           171 non-null    int64 \n",
            " 16  Docentes no ensino médio                                 171 non-null    int64 \n",
            " 17  Mortalidade Infantil                                     153 non-null    object\n",
            "dtypes: int64(7), object(11)\n",
            "memory usage: 24.2+ KB\n"
          ]
        }
      ]
    },
    {
      "cell_type": "markdown",
      "source": [
        "as informações que nao são preenchidas em 100% são <code>Percentual das receitas oriundas de fontes externas (%)</code> e <code>Mortalidade Infantil</code>"
      ],
      "metadata": {
        "id": "FmDbBm--L-9c"
      }
    },
    {
      "cell_type": "markdown",
      "source": [
        "# Objetivo\n",
        "* Nosso objetivo é, a partir da “base de treino supervisionado”, criar um modelo de classificação para identificar municípios que estão em nível de Gestão Crítica (D).\n",
        "\n",
        "* Após a criação do modelo, aplique-o sobre a “base de avaliação” e defina quais municípios estão em situação de gestão crítica"
      ],
      "metadata": {
        "id": "-MgJsFhuL9Yp"
      }
    },
    {
      "cell_type": "markdown",
      "source": [
        "com isso, nosso objetivo é criar uma rede neural que possa ser treinada com a base de dados de treinamento e possa ser aplicada em outra base de dados a fim de obter o indice de firjan e encontrar os municipios que estão em um Nivel de gestão crítica"
      ],
      "metadata": {
        "id": "gXuZAPsdMYV6"
      }
    },
    {
      "cell_type": "markdown",
      "source": [
        "##Classificação"
      ],
      "metadata": {
        "id": "OQZ-q4-0O4MD"
      }
    },
    {
      "cell_type": "markdown",
      "source": [
        "![excelencia .jpg](data:image/jpeg;base64,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)\n",
        "![boa gestao.jpg](data:image/jpeg;base64,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)![dificuldade.jpg](data:image/jpeg;base64,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)![Imagem do WhatsApp de 2023-07-05 à(s) 14.58.07.jpg](data:image/jpeg;base64,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)"
      ],
      "metadata": {
        "id": "m_cQwp-qNKYZ"
      }
    },
    {
      "cell_type": "code",
      "source": [
        "plt.hist(df_treinamento_supervisionado['IFGF'])"
      ],
      "metadata": {
        "id": "eZv3Tl0EME9c",
        "colab": {
          "base_uri": "https://localhost:8080/",
          "height": 499
        },
        "outputId": "6c9c2a94-c08e-4368-da44-8802d17366c7"
      },
      "execution_count": null,
      "outputs": [
        {
          "output_type": "execute_result",
          "data": {
            "text/plain": [
              "(array([19., 16., 17., 18., 18., 17., 16., 17., 16., 17.]),\n",
              " array([  0. ,  16.4,  32.8,  49.2,  65.6,  82. ,  98.4, 114.8, 131.2,\n",
              "        147.6, 164. ]),\n",
              " <BarContainer object of 10 artists>)"
            ]
          },
          "metadata": {},
          "execution_count": 12
        },
        {
          "output_type": "display_data",
          "data": {
            "text/plain": [
              "<Figure size 640x480 with 1 Axes>"
            ],
            "image/png": "[encoded data removed]"
          },
          "metadata": {}
        }
      ]
    },
    {
      "cell_type": "markdown",
      "source": [
        "# Classificadores\n",
        "### Cada grupo deverá escolher um dos seguintes algoritmos de aprendizagem para utilizar no trabalho:\n",
        "\n",
        "* K-Means\n",
        "* K-Nearest Neighbor (KNN)\n",
        "* Regressão Linear\n",
        "* Regressão Logística\n",
        "* Árvore de Decisão\n",
        "* Naïve Bayes\n",
        "* Suport Vector Machine (SVM)\n",
        "* Redes Neurais\n"
      ],
      "metadata": {
        "id": "EuotY5edMMBq"
      }
    },
    {
      "cell_type": "markdown",
      "source": [
        "Escolhemos Redes Neurais para esse desafio"
      ],
      "metadata": {
        "id": "UXGRT8PsO_cw"
      }
    },
    {
      "cell_type": "markdown",
      "source": [
        "# Seminário e Relatório\n",
        "### Montem um seminário sobre o classificador escolhido, explicando seu funcionamento e os principais parâmetros que devem ser configurados. O seminário deve ter no máximo 15 minutos de duração.\n",
        "### Por fim, apresente o resultado da classificação das instâncias desconhecidas, criando um relatório de como foram realizadas as etapas de criação de modelo de classificação, treino, teste, parametrização, e o que mais for importante para o entendimento"
      ],
      "metadata": {
        "id": "nPYBvDsvMp_G"
      }
    },
    {
      "cell_type": "markdown",
      "source": [
        "# Ferramentas\n",
        "### Utilize uma das ferramentas para realizar os experimentos:\n",
        "- Laws Miner: https://alexandreronald.shinyapps.io/LawsMiner/\n",
        "- WEKA: https://www.cs.waikato.ac.nz/ml/weka/\n",
        "- R: https://www.r-project.org/\n",
        "- Orange: https://orangedatamining.com/\n",
        "- SciKit Learn: https://scikit-learn.org/stable/\n",
        "- Ou faça sua própria implementação.\n"
      ],
      "metadata": {
        "id": "q4VqDGuAM8v6"
      }
    },
    {
      "cell_type": "markdown",
      "source": [
        "# Código\n"
      ],
      "metadata": {
        "id": "-if_KF-XS3V6"
      }
    },
    {
      "cell_type": "markdown",
      "source": [
        "## Importando bibliotecas"
      ],
      "metadata": {
        "id": "aNbWQscpOy6C"
      }
    },
    {
      "cell_type": "code",
      "source": [
        "%tensorflow_version 2.x\n",
        "import tensorflow as tf\n",
        "import pandas as pd\n",
        "import numpy as np\n",
        "import seaborn as sns\n",
        "import matplotlib.pyplot as plt\n",
        "tf.__version__"
      ],
      "metadata": {
        "colab": {
          "base_uri": "https://localhost:8080/",
          "height": 53
        },
        "id": "eb-Uf0_OoUet",
        "outputId": "d4d0bd63-bfe6-424b-b5ca-8d915a466e4f"
      },
      "execution_count": null,
      "outputs": [
        {
          "output_type": "stream",
          "name": "stdout",
          "text": [
            "Colab only includes TensorFlow 2.x; %tensorflow_version has no effect.\n"
          ]
        },
        {
          "output_type": "execute_result",
          "data": {
            "text/plain": [
              "'2.12.0'"
            ],
            "application/vnd.google.colaboratory.intrinsic+json": {
              "type": "string"
            }
          },
          "metadata": {},
          "execution_count": 198
        }
      ]
    },
    {
      "cell_type": "markdown",
      "source": [
        "## Importação dos dados"
      ],
      "metadata": {
        "id": "C8_7hb6F8Lvg"
      }
    },
    {
      "cell_type": "code",
      "source": [
        "base_de_dados = pd.read_csv('/content/drive/MyDrive/IA/Base_Treinamento_Supervisionado.csv', encoding=\"ISO-8859-1\",sep=\";\")"
      ],
      "metadata": {
        "id": "SjqeIWIz-zj8"
      },
      "execution_count": null,
      "outputs": []
    },
    {
      "cell_type": "code",
      "source": [
        "base_de_dados.info()"
      ],
      "metadata": {
        "colab": {
          "base_uri": "https://localhost:8080/"
        },
        "id": "tbG-wuLNjoCe",
        "outputId": "907bbd2d-d962-467b-c6c1-25811069f205"
      },
      "execution_count": null,
      "outputs": [
        {
          "output_type": "stream",
          "name": "stdout",
          "text": [
            "<class 'pandas.core.frame.DataFrame'>\n",
            "RangeIndex: 171 entries, 0 to 170\n",
            "Data columns (total 18 columns):\n",
            " #   Column                                                   Non-Null Count  Dtype \n",
            "---  ------                                                   --------------  ----- \n",
            " 0   Município                                                171 non-null    object\n",
            " 1   IFGF                                                     171 non-null    object\n",
            " 2   Total de receitas realizadas (R$x1000)                   171 non-null    object\n",
            " 3   Total de despesas empenhadas (R$x1000)                   171 non-null    object\n",
            " 4   IDHm                                                     171 non-null    object\n",
            " 5   PIB per capita                                           171 non-null    object\n",
            " 6   Percentual das receitas oriundas de fontes externas (%)  126 non-null    object\n",
            " 7   Área territorial                                         171 non-null    int64 \n",
            " 8   População                                                171 non-null    int64 \n",
            " 9   Pessoal ocupado                                          171 non-null    int64 \n",
            " 10  Percentual população ocupada                             171 non-null    object\n",
            " 11  Área Urbanizada                                          171 non-null    object\n",
            " 12  Salário Médio dos trabalhadores (xSalário mínimo)        171 non-null    object\n",
            " 13  Matrículas no ensino fundamental                         171 non-null    int64 \n",
            " 14  Matrículas no ensino médio                               171 non-null    int64 \n",
            " 15  Docentes no ensino fundamental                           171 non-null    int64 \n",
            " 16  Docentes no ensino médio                                 171 non-null    int64 \n",
            " 17  Mortalidade Infantil                                     153 non-null    object\n",
            "dtypes: int64(7), object(11)\n",
            "memory usage: 24.2+ KB\n"
          ]
        }
      ]
    },
    {
      "cell_type": "code",
      "source": [
        "base_de_dados.isnull().sum()"
      ],
      "metadata": {
        "colab": {
          "base_uri": "https://localhost:8080/"
        },
        "id": "1xDz1BiXQALB",
        "outputId": "3dd7bf9d-849d-46dd-8872-3b579d4727aa"
      },
      "execution_count": null,
      "outputs": [
        {
          "output_type": "execute_result",
          "data": {
            "text/plain": [
              "Município                                                   0\n",
              "IFGF                                                        0\n",
              "Total de receitas realizadas (R$x1000)                      0\n",
              "Total de despesas empenhadas (R$x1000)                      0\n",
              "IDHm                                                        0\n",
              "PIB per capita                                              0\n",
              "Percentual das receitas oriundas de fontes externas (%)    45\n",
              "Área territorial                                            0\n",
              "População                                                   0\n",
              "Pessoal ocupado                                             0\n",
              "Percentual população ocupada                                0\n",
              "Área Urbanizada                                             0\n",
              "Salário Médio dos trabalhadores (xSalário mínimo)           0\n",
              "Matrículas no ensino fundamental                            0\n",
              "Matrículas no ensino médio                                  0\n",
              "Docentes no ensino fundamental                              0\n",
              "Docentes no ensino médio                                    0\n",
              "Mortalidade Infantil                                       18\n",
              "dtype: int64"
            ]
          },
          "metadata": {},
          "execution_count": 201
        }
      ]
    },
    {
      "cell_type": "markdown",
      "source": [
        "existem 45 ocorrencias de <code>Percentual das receitas oriundas de fontes externas (%)</code> e 18 <code>Mortalidade Infantil</code> não informadas"
      ],
      "metadata": {
        "id": "QeueMgySQPIe"
      }
    },
    {
      "cell_type": "markdown",
      "source": [
        "## Visualizando dados importados"
      ],
      "metadata": {
        "id": "rInfga4qO-ss"
      }
    },
    {
      "cell_type": "code",
      "source": [
        "base_de_dados"
      ],
      "metadata": {
        "colab": {
          "base_uri": "https://localhost:8080/",
          "height": 748
        },
        "id": "e2F0n9Ue5XV4",
        "outputId": "05370433-53f1-4eac-9f12-b10780e5f67a"
      },
      "execution_count": null,
      "outputs": [
        {
          "output_type": "execute_result",
          "data": {
            "text/plain": [
              "                  Município    IFGF Total de receitas realizadas (R$x1000)  \\\n",
              "0                Açailândia  0,6772                              276417,09   \n",
              "1      Altamira do Maranhão  0,2418                               28548,43   \n",
              "2    Alto Alegre do Pindaré   0,387                               70794,78   \n",
              "3             Alto Parnaíba  0,4069                               34241,63   \n",
              "4      Amarante do Maranhão  0,3227                               74474,98   \n",
              "..                      ...     ...                                    ...   \n",
              "166           Vargem Grande   0,297                               95867,34   \n",
              "167                   Viana  0,3078                               92120,11   \n",
              "168       Vitória do Mearim   0,433                               92120,11   \n",
              "169         Vitorino Freire  0,3137                               92120,11   \n",
              "170                 Zé Doca  0,5691                               92120,11   \n",
              "\n",
              "    Total de despesas empenhadas (R$x1000)   IDHm PIB per capita  \\\n",
              "0                                247664,14  0,672       23683,22   \n",
              "1                                 24977,85  0,549        7512,63   \n",
              "2                                  68523,7  0,558        7221,77   \n",
              "3                                 32154,06  0,633       43877,65   \n",
              "4                                 67136,51  0,555         8010,3   \n",
              "..                                     ...    ...            ...   \n",
              "166                               92155,89  0,542        6630,45   \n",
              "167                               89952,74  0,618        8663,99   \n",
              "168                               60752,47  0,596        7895,55   \n",
              "169                               62014,71   0,57        8444,18   \n",
              "170                               84989,72  0,595        8779,78   \n",
              "\n",
              "    Percentual das receitas oriundas de fontes externas (%)  Área territorial  \\\n",
              "0                                                 74,8                5805159   \n",
              "1                                                 97,6                 524374   \n",
              "2                                                 90,2                1875901   \n",
              "3                                                 94,8               11127384   \n",
              "4                                                 95,9                7439615   \n",
              "..                                                 ...                    ...   \n",
              "166                                                NaN                1958702   \n",
              "167                                               94,8                1166745   \n",
              "168                                               91,5                 716719   \n",
              "169                                                NaN                1193385   \n",
              "170                                               96,2                2140109   \n",
              "\n",
              "     População  Pessoal ocupado Percentual população ocupada Área Urbanizada  \\\n",
              "0       113783            16354                         14,5           28,63   \n",
              "1         8250              326                            4            1,45   \n",
              "2        31967             1260                          3,9            5,52   \n",
              "3        11233             1165                         10,4            3,07   \n",
              "4        42017             1592                          3,8            9,44   \n",
              "..         ...              ...                          ...             ...   \n",
              "166      57813             2575                          4,5            7,96   \n",
              "167      52852             2521                          4,8             8,8   \n",
              "168      32956             1558                          4,7             6,4   \n",
              "169      31520             2098                          6,7            6,57   \n",
              "170      52190             3225                          6,2           11,31   \n",
              "\n",
              "    Salário Médio dos trabalhadores (xSalário mínimo)  \\\n",
              "0                                                 2,2   \n",
              "1                                                 1,9   \n",
              "2                                                 1,9   \n",
              "3                                                 1,8   \n",
              "4                                                 1,7   \n",
              "..                                                ...   \n",
              "166                                                 2   \n",
              "167                                               1,9   \n",
              "168                                               1,9   \n",
              "169                                                 2   \n",
              "170                                               1,7   \n",
              "\n",
              "     Matrículas no ensino fundamental  Matrículas no ensino médio  \\\n",
              "0                               16830                        4379   \n",
              "1                                1140                         234   \n",
              "2                                5014                        1592   \n",
              "3                                1861                         333   \n",
              "4                                7290                        1370   \n",
              "..                                ...                         ...   \n",
              "166                              8200                        1740   \n",
              "167                              8708                        2298   \n",
              "168                              5296                        1685   \n",
              "169                              4563                        1367   \n",
              "170                              7021                        1852   \n",
              "\n",
              "     Docentes no ensino fundamental  Docentes no ensino médio  \\\n",
              "0                               771                       274   \n",
              "1                               111                         8   \n",
              "2                               325                       107   \n",
              "3                               130                        14   \n",
              "4                               556                       116   \n",
              "..                              ...                       ...   \n",
              "166                             346                       136   \n",
              "167                             511                        94   \n",
              "168                             361                        72   \n",
              "169                             375                        67   \n",
              "170                             483                       154   \n",
              "\n",
              "    Mortalidade Infantil  \n",
              "0                  13,04  \n",
              "1                    NaN  \n",
              "2                  20,45  \n",
              "3                  20,94  \n",
              "4                  17,83  \n",
              "..                   ...  \n",
              "166                 9,78  \n",
              "167                14,07  \n",
              "168                10,89  \n",
              "169                16,24  \n",
              "170                19,89  \n",
              "\n",
              "[171 rows x 18 columns]"
            ],
            "text/html": [
              "\n",
              "  <div id=\"df-e5496323-3589-4139-98ce-9506080c6330\">\n",
              "    <div class=\"colab-df-container\">\n",
              "      <div>\n",
              "<style scoped>\n",
              "    .dataframe tbody tr th:only-of-type {\n",
              "        vertical-align: middle;\n",
              "    }\n",
              "\n",
              "    .dataframe tbody tr th {\n",
              "        vertical-align: top;\n",
              "    }\n",
              "\n",
              "    .dataframe thead th {\n",
              "        text-align: right;\n",
              "    }\n",
              "</style>\n",
              "<table border=\"1\" class=\"dataframe\">\n",
              "  <thead>\n",
              "    <tr style=\"text-align: right;\">\n",
              "      <th></th>\n",
              "      <th>Município</th>\n",
              "      <th>IFGF</th>\n",
              "      <th>Total de receitas realizadas (R$x1000)</th>\n",
              "      <th>Total de despesas empenhadas (R$x1000)</th>\n",
              "      <th>IDHm</th>\n",
              "      <th>PIB per capita</th>\n",
              "      <th>Percentual das receitas oriundas de fontes externas (%)</th>\n",
              "      <th>Área territorial</th>\n",
              "      <th>População</th>\n",
              "      <th>Pessoal ocupado</th>\n",
              "      <th>Percentual população ocupada</th>\n",
              "      <th>Área Urbanizada</th>\n",
              "      <th>Salário Médio dos trabalhadores (xSalário mínimo)</th>\n",
              "      <th>Matrículas no ensino fundamental</th>\n",
              "      <th>Matrículas no ensino médio</th>\n",
              "      <th>Docentes no ensino fundamental</th>\n",
              "      <th>Docentes no ensino médio</th>\n",
              "      <th>Mortalidade Infantil</th>\n",
              "    </tr>\n",
              "  </thead>\n",
              "  <tbody>\n",
              "    <tr>\n",
              "      <th>0</th>\n",
              "      <td>Açailândia</td>\n",
              "      <td>0,6772</td>\n",
              "      <td>276417,09</td>\n",
              "      <td>247664,14</td>\n",
              "      <td>0,672</td>\n",
              "      <td>23683,22</td>\n",
              "      <td>74,8</td>\n",
              "      <td>5805159</td>\n",
              "      <td>113783</td>\n",
              "      <td>16354</td>\n",
              "      <td>14,5</td>\n",
              "      <td>28,63</td>\n",
              "      <td>2,2</td>\n",
              "      <td>16830</td>\n",
              "      <td>4379</td>\n",
              "      <td>771</td>\n",
              "      <td>274</td>\n",
              "      <td>13,04</td>\n",
              "    </tr>\n",
              "    <tr>\n",
              "      <th>1</th>\n",
              "      <td>Altamira do Maranhão</td>\n",
              "      <td>0,2418</td>\n",
              "      <td>28548,43</td>\n",
              "      <td>24977,85</td>\n",
              "      <td>0,549</td>\n",
              "      <td>7512,63</td>\n",
              "      <td>97,6</td>\n",
              "      <td>524374</td>\n",
              "      <td>8250</td>\n",
              "      <td>326</td>\n",
              "      <td>4</td>\n",
              "      <td>1,45</td>\n",
              "      <td>1,9</td>\n",
              "      <td>1140</td>\n",
              "      <td>234</td>\n",
              "      <td>111</td>\n",
              "      <td>8</td>\n",
              "      <td>NaN</td>\n",
              "    </tr>\n",
              "    <tr>\n",
              "      <th>2</th>\n",
              "      <td>Alto Alegre do Pindaré</td>\n",
              "      <td>0,387</td>\n",
              "      <td>70794,78</td>\n",
              "      <td>68523,7</td>\n",
              "      <td>0,558</td>\n",
              "      <td>7221,77</td>\n",
              "      <td>90,2</td>\n",
              "      <td>1875901</td>\n",
              "      <td>31967</td>\n",
              "      <td>1260</td>\n",
              "      <td>3,9</td>\n",
              "      <td>5,52</td>\n",
              "      <td>1,9</td>\n",
              "      <td>5014</td>\n",
              "      <td>1592</td>\n",
              "      <td>325</td>\n",
              "      <td>107</td>\n",
              "      <td>20,45</td>\n",
              "    </tr>\n",
              "    <tr>\n",
              "      <th>3</th>\n",
              "      <td>Alto Parnaíba</td>\n",
              "      <td>0,4069</td>\n",
              "      <td>34241,63</td>\n",
              "      <td>32154,06</td>\n",
              "      <td>0,633</td>\n",
              "      <td>43877,65</td>\n",
              "      <td>94,8</td>\n",
              "      <td>11127384</td>\n",
              "      <td>11233</td>\n",
              "      <td>1165</td>\n",
              "      <td>10,4</td>\n",
              "      <td>3,07</td>\n",
              "      <td>1,8</td>\n",
              "      <td>1861</td>\n",
              "      <td>333</td>\n",
              "      <td>130</td>\n",
              "      <td>14</td>\n",
              "      <td>20,94</td>\n",
              "    </tr>\n",
              "    <tr>\n",
              "      <th>4</th>\n",
              "      <td>Amarante do Maranhão</td>\n",
              "      <td>0,3227</td>\n",
              "      <td>74474,98</td>\n",
              "      <td>67136,51</td>\n",
              "      <td>0,555</td>\n",
              "      <td>8010,3</td>\n",
              "      <td>95,9</td>\n",
              "      <td>7439615</td>\n",
              "      <td>42017</td>\n",
              "      <td>1592</td>\n",
              "      <td>3,8</td>\n",
              "      <td>9,44</td>\n",
              "      <td>1,7</td>\n",
              "      <td>7290</td>\n",
              "      <td>1370</td>\n",
              "      <td>556</td>\n",
              "      <td>116</td>\n",
              "      <td>17,83</td>\n",
              "    </tr>\n",
              "    <tr>\n",
              "      <th>...</th>\n",
              "      <td>...</td>\n",
              "      <td>...</td>\n",
              "      <td>...</td>\n",
              "      <td>...</td>\n",
              "      <td>...</td>\n",
              "      <td>...</td>\n",
              "      <td>...</td>\n",
              "      <td>...</td>\n",
              "      <td>...</td>\n",
              "      <td>...</td>\n",
              "      <td>...</td>\n",
              "      <td>...</td>\n",
              "      <td>...</td>\n",
              "      <td>...</td>\n",
              "      <td>...</td>\n",
              "      <td>...</td>\n",
              "      <td>...</td>\n",
              "      <td>...</td>\n",
              "    </tr>\n",
              "    <tr>\n",
              "      <th>166</th>\n",
              "      <td>Vargem Grande</td>\n",
              "      <td>0,297</td>\n",
              "      <td>95867,34</td>\n",
              "      <td>92155,89</td>\n",
              "      <td>0,542</td>\n",
              "      <td>6630,45</td>\n",
              "      <td>NaN</td>\n",
              "      <td>1958702</td>\n",
              "      <td>57813</td>\n",
              "      <td>2575</td>\n",
              "      <td>4,5</td>\n",
              "      <td>7,96</td>\n",
              "      <td>2</td>\n",
              "      <td>8200</td>\n",
              "      <td>1740</td>\n",
              "      <td>346</td>\n",
              "      <td>136</td>\n",
              "      <td>9,78</td>\n",
              "    </tr>\n",
              "    <tr>\n",
              "      <th>167</th>\n",
              "      <td>Viana</td>\n",
              "      <td>0,3078</td>\n",
              "      <td>92120,11</td>\n",
              "      <td>89952,74</td>\n",
              "      <td>0,618</td>\n",
              "      <td>8663,99</td>\n",
              "      <td>94,8</td>\n",
              "      <td>1166745</td>\n",
              "      <td>52852</td>\n",
              "      <td>2521</td>\n",
              "      <td>4,8</td>\n",
              "      <td>8,8</td>\n",
              "      <td>1,9</td>\n",
              "      <td>8708</td>\n",
              "      <td>2298</td>\n",
              "      <td>511</td>\n",
              "      <td>94</td>\n",
              "      <td>14,07</td>\n",
              "    </tr>\n",
              "    <tr>\n",
              "      <th>168</th>\n",
              "      <td>Vitória do Mearim</td>\n",
              "      <td>0,433</td>\n",
              "      <td>92120,11</td>\n",
              "      <td>60752,47</td>\n",
              "      <td>0,596</td>\n",
              "      <td>7895,55</td>\n",
              "      <td>91,5</td>\n",
              "      <td>716719</td>\n",
              "      <td>32956</td>\n",
              "      <td>1558</td>\n",
              "      <td>4,7</td>\n",
              "      <td>6,4</td>\n",
              "      <td>1,9</td>\n",
              "      <td>5296</td>\n",
              "      <td>1685</td>\n",
              "      <td>361</td>\n",
              "      <td>72</td>\n",
              "      <td>10,89</td>\n",
              "    </tr>\n",
              "    <tr>\n",
              "      <th>169</th>\n",
              "      <td>Vitorino Freire</td>\n",
              "      <td>0,3137</td>\n",
              "      <td>92120,11</td>\n",
              "      <td>62014,71</td>\n",
              "      <td>0,57</td>\n",
              "      <td>8444,18</td>\n",
              "      <td>NaN</td>\n",
              "      <td>1193385</td>\n",
              "      <td>31520</td>\n",
              "      <td>2098</td>\n",
              "      <td>6,7</td>\n",
              "      <td>6,57</td>\n",
              "      <td>2</td>\n",
              "      <td>4563</td>\n",
              "      <td>1367</td>\n",
              "      <td>375</td>\n",
              "      <td>67</td>\n",
              "      <td>16,24</td>\n",
              "    </tr>\n",
              "    <tr>\n",
              "      <th>170</th>\n",
              "      <td>Zé Doca</td>\n",
              "      <td>0,5691</td>\n",
              "      <td>92120,11</td>\n",
              "      <td>84989,72</td>\n",
              "      <td>0,595</td>\n",
              "      <td>8779,78</td>\n",
              "      <td>96,2</td>\n",
              "      <td>2140109</td>\n",
              "      <td>52190</td>\n",
              "      <td>3225</td>\n",
              "      <td>6,2</td>\n",
              "      <td>11,31</td>\n",
              "      <td>1,7</td>\n",
              "      <td>7021</td>\n",
              "      <td>1852</td>\n",
              "      <td>483</td>\n",
              "      <td>154</td>\n",
              "      <td>19,89</td>\n",
              "    </tr>\n",
              "  </tbody>\n",
              "</table>\n",
              "<p>171 rows × 18 columns</p>\n",
              "</div>\n",
              "      <button class=\"colab-df-convert\" onclick=\"convertToInteractive('df-e5496323-3589-4139-98ce-9506080c6330')\"\n",
              "              title=\"Convert this dataframe to an interactive table.\"\n",
              "              style=\"display:none;\">\n",
              "        \n",
              "  <svg xmlns=\"http://www.w3.org/2000/svg\" height=\"24px\"viewBox=\"0 0 24 24\"\n",
              "       width=\"24px\">\n",
              "    <path d=\"M0 0h24v24H0V0z\" fill=\"none\"/>\n",
              "    <path d=\"M18.56 5.44l.94 2.06.94-2.06 2.06-.94-2.06-.94-.94-2.06-.94 2.06-2.06.94zm-11 1L8.5 8.5l.94-2.06 2.06-.94-2.06-.94L8.5 2.5l-.94 2.06-2.06.94zm10 10l.94 2.06.94-2.06 2.06-.94-2.06-.94-.94-2.06-.94 2.06-2.06.94z\"/><path d=\"M17.41 7.96l-1.37-1.37c-.4-.4-.92-.59-1.43-.59-.52 0-1.04.2-1.43.59L10.3 9.45l-7.72 7.72c-.78.78-.78 2.05 0 2.83L4 21.41c.39.39.9.59 1.41.59.51 0 1.02-.2 1.41-.59l7.78-7.78 2.81-2.81c.8-.78.8-2.07 0-2.86zM5.41 20L4 18.59l7.72-7.72 1.47 1.35L5.41 20z\"/>\n",
              "  </svg>\n",
              "      </button>\n",
              "      \n",
              "  <style>\n",
              "    .colab-df-container {\n",
              "      display:flex;\n",
              "      flex-wrap:wrap;\n",
              "      gap: 12px;\n",
              "    }\n",
              "\n",
              "    .colab-df-convert {\n",
              "      background-color: #E8F0FE;\n",
              "      border: none;\n",
              "      border-radius: 50%;\n",
              "      cursor: pointer;\n",
              "      display: none;\n",
              "      fill: #1967D2;\n",
              "      height: 32px;\n",
              "      padding: 0 0 0 0;\n",
              "      width: 32px;\n",
              "    }\n",
              "\n",
              "    .colab-df-convert:hover {\n",
              "      background-color: #E2EBFA;\n",
              "      box-shadow: 0px 1px 2px rgba(60, 64, 67, 0.3), 0px 1px 3px 1px rgba(60, 64, 67, 0.15);\n",
              "      fill: #174EA6;\n",
              "    }\n",
              "\n",
              "    [theme=dark] .colab-df-convert {\n",
              "      background-color: #3B4455;\n",
              "      fill: #D2E3FC;\n",
              "    }\n",
              "\n",
              "    [theme=dark] .colab-df-convert:hover {\n",
              "      background-color: #434B5C;\n",
              "      box-shadow: 0px 1px 3px 1px rgba(0, 0, 0, 0.15);\n",
              "      filter: drop-shadow(0px 1px 2px rgba(0, 0, 0, 0.3));\n",
              "      fill: #FFFFFF;\n",
              "    }\n",
              "  </style>\n",
              "\n",
              "      <script>\n",
              "        const buttonEl =\n",
              "          document.querySelector('#df-e5496323-3589-4139-98ce-9506080c6330 button.colab-df-convert');\n",
              "        buttonEl.style.display =\n",
              "          google.colab.kernel.accessAllowed ? 'block' : 'none';\n",
              "\n",
              "        async function convertToInteractive(key) {\n",
              "          const element = document.querySelector('#df-e5496323-3589-4139-98ce-9506080c6330');\n",
              "          const dataTable =\n",
              "            await google.colab.kernel.invokeFunction('convertToInteractive',\n",
              "                                                     [key], {});\n",
              "          if (!dataTable) return;\n",
              "\n",
              "          const docLinkHtml = 'Like what you see? Visit the ' +\n",
              "            '<a target=\"_blank\" href=https://colab.research.google.com/notebooks/data_table.ipynb>data table notebook</a>'\n",
              "            + ' to learn more about interactive tables.';\n",
              "          element.innerHTML = '';\n",
              "          dataTable['output_type'] = 'display_data';\n",
              "          await google.colab.output.renderOutput(dataTable, element);\n",
              "          const docLink = document.createElement('div');\n",
              "          docLink.innerHTML = docLinkHtml;\n",
              "          element.appendChild(docLink);\n",
              "        }\n",
              "      </script>\n",
              "    </div>\n",
              "  </div>\n",
              "  "
            ]
          },
          "metadata": {},
          "execution_count": 202
        }
      ]
    },
    {
      "cell_type": "markdown",
      "source": [
        "\n",
        "## Tratamento dos dados"
      ],
      "metadata": {
        "id": "y7Zd1jhynm6T"
      }
    },
    {
      "cell_type": "code",
      "source": [
        "# Substituir vírgulas por pontos em todas as colunas\n",
        "base_de_dados = base_de_dados.replace(',', '.', regex=True)\n",
        "\n",
        "municipios_criticos = {}\n",
        "for i,j in zip(base_de_dados['IFGF'], base_de_dados['Município']):\n",
        "  if(float(i)<0.4):\n",
        "    municipios_criticos[j] = i\n",
        "\n",
        "base_de_dados = base_de_dados.drop('Município', axis=1)\n",
        "\n",
        "# Converter todas as colunas para tipo float\n",
        "base_de_dados = base_de_dados.astype(float)"
      ],
      "metadata": {
        "id": "zoxrN6R3lGP_"
      },
      "execution_count": null,
      "outputs": []
    },
    {
      "cell_type": "code",
      "source": [
        "media_perc = base_de_dados['Percentual das receitas oriundas de fontes externas (%)'].median()\n",
        "media_mi = base_de_dados['Mortalidade Infantil'].median()\n",
        "\n",
        "values = {'Percentual das receitas oriundas de fontes externas (%)': media_perc, 'Mortalidade Infantil': media_mi}\n",
        "\n",
        "base_de_dados = base_de_dados.fillna(value=values)"
      ],
      "metadata": {
        "id": "tffu0SWMsF9s"
      },
      "execution_count": null,
      "outputs": []
    },
    {
      "cell_type": "code",
      "source": [
        "result = []\n",
        "\n",
        "for i in base_de_dados['IFGF']:\n",
        "  if i<0.4:\n",
        "    result.append(1)\n",
        "  else:\n",
        "    result.append(0)\n",
        "\n",
        "base_de_dados['IFGF'] = result"
      ],
      "metadata": {
        "id": "HZJI-_8KS3Pe"
      },
      "execution_count": null,
      "outputs": []
    },
    {
      "cell_type": "markdown",
      "source": [
        "## Visualização dos dados tratados"
      ],
      "metadata": {
        "id": "5BIV4X1PPn5g"
      }
    },
    {
      "cell_type": "code",
      "source": [
        "base_de_dados"
      ],
      "metadata": {
        "colab": {
          "base_uri": "https://localhost:8080/",
          "height": 592
        },
        "id": "9t6Fjbp2Prom",
        "outputId": "06396f36-7969-4c5f-a351-248e5d9e2252"
      },
      "execution_count": null,
      "outputs": [
        {
          "output_type": "execute_result",
          "data": {
            "text/plain": [
              "     IFGF  Total de receitas realizadas (R$x1000)  \\\n",
              "0       0                               276417.09   \n",
              "1       1                                28548.43   \n",
              "2       1                                70794.78   \n",
              "3       0                                34241.63   \n",
              "4       1                                74474.98   \n",
              "..    ...                                     ...   \n",
              "166     1                                95867.34   \n",
              "167     1                                92120.11   \n",
              "168     0                                92120.11   \n",
              "169     1                                92120.11   \n",
              "170     0                                92120.11   \n",
              "\n",
              "     Total de despesas empenhadas (R$x1000)   IDHm  PIB per capita  \\\n",
              "0                                 247664.14  0.672        23683.22   \n",
              "1                                  24977.85  0.549         7512.63   \n",
              "2                                  68523.70  0.558         7221.77   \n",
              "3                                  32154.06  0.633        43877.65   \n",
              "4                                  67136.51  0.555         8010.30   \n",
              "..                                      ...    ...             ...   \n",
              "166                                92155.89  0.542         6630.45   \n",
              "167                                89952.74  0.618         8663.99   \n",
              "168                                60752.47  0.596         7895.55   \n",
              "169                                62014.71  0.570         8444.18   \n",
              "170                                84989.72  0.595         8779.78   \n",
              "\n",
              "     Percentual das receitas oriundas de fontes externas (%)  \\\n",
              "0                                                 74.8         \n",
              "1                                                 97.6         \n",
              "2                                                 90.2         \n",
              "3                                                 94.8         \n",
              "4                                                 95.9         \n",
              "..                                                 ...         \n",
              "166                                               95.7         \n",
              "167                                               94.8         \n",
              "168                                               91.5         \n",
              "169                                               95.7         \n",
              "170                                               96.2         \n",
              "\n",
              "     Área territorial  População  Pessoal ocupado  \\\n",
              "0           5805159.0   113783.0          16354.0   \n",
              "1            524374.0     8250.0            326.0   \n",
              "2           1875901.0    31967.0           1260.0   \n",
              "3          11127384.0    11233.0           1165.0   \n",
              "4           7439615.0    42017.0           1592.0   \n",
              "..                ...        ...              ...   \n",
              "166         1958702.0    57813.0           2575.0   \n",
              "167         1166745.0    52852.0           2521.0   \n",
              "168          716719.0    32956.0           1558.0   \n",
              "169         1193385.0    31520.0           2098.0   \n",
              "170         2140109.0    52190.0           3225.0   \n",
              "\n",
              "     Percentual população ocupada  Área Urbanizada  \\\n",
              "0                            14.5            28.63   \n",
              "1                             4.0             1.45   \n",
              "2                             3.9             5.52   \n",
              "3                            10.4             3.07   \n",
              "4                             3.8             9.44   \n",
              "..                            ...              ...   \n",
              "166                           4.5             7.96   \n",
              "167                           4.8             8.80   \n",
              "168                           4.7             6.40   \n",
              "169                           6.7             6.57   \n",
              "170                           6.2            11.31   \n",
              "\n",
              "     Salário Médio dos trabalhadores (xSalário mínimo)  \\\n",
              "0                                                  2.2   \n",
              "1                                                  1.9   \n",
              "2                                                  1.9   \n",
              "3                                                  1.8   \n",
              "4                                                  1.7   \n",
              "..                                                 ...   \n",
              "166                                                2.0   \n",
              "167                                                1.9   \n",
              "168                                                1.9   \n",
              "169                                                2.0   \n",
              "170                                                1.7   \n",
              "\n",
              "     Matrículas no ensino fundamental  Matrículas no ensino médio  \\\n",
              "0                             16830.0                      4379.0   \n",
              "1                              1140.0                       234.0   \n",
              "2                              5014.0                      1592.0   \n",
              "3                              1861.0                       333.0   \n",
              "4                              7290.0                      1370.0   \n",
              "..                                ...                         ...   \n",
              "166                            8200.0                      1740.0   \n",
              "167                            8708.0                      2298.0   \n",
              "168                            5296.0                      1685.0   \n",
              "169                            4563.0                      1367.0   \n",
              "170                            7021.0                      1852.0   \n",
              "\n",
              "     Docentes no ensino fundamental  Docentes no ensino médio  \\\n",
              "0                             771.0                     274.0   \n",
              "1                             111.0                       8.0   \n",
              "2                             325.0                     107.0   \n",
              "3                             130.0                      14.0   \n",
              "4                             556.0                     116.0   \n",
              "..                              ...                       ...   \n",
              "166                           346.0                     136.0   \n",
              "167                           511.0                      94.0   \n",
              "168                           361.0                      72.0   \n",
              "169                           375.0                      67.0   \n",
              "170                           483.0                     154.0   \n",
              "\n",
              "     Mortalidade Infantil  \n",
              "0                   13.04  \n",
              "1                   14.29  \n",
              "2                   20.45  \n",
              "3                   20.94  \n",
              "4                   17.83  \n",
              "..                    ...  \n",
              "166                  9.78  \n",
              "167                 14.07  \n",
              "168                 10.89  \n",
              "169                 16.24  \n",
              "170                 19.89  \n",
              "\n",
              "[171 rows x 17 columns]"
            ],
            "text/html": [
              "\n",
              "  <div id=\"df-ff959e08-95c0-474a-a945-64f0fb118d8d\">\n",
              "    <div class=\"colab-df-container\">\n",
              "      <div>\n",
              "<style scoped>\n",
              "    .dataframe tbody tr th:only-of-type {\n",
              "        vertical-align: middle;\n",
              "    }\n",
              "\n",
              "    .dataframe tbody tr th {\n",
              "        vertical-align: top;\n",
              "    }\n",
              "\n",
              "    .dataframe thead th {\n",
              "        text-align: right;\n",
              "    }\n",
              "</style>\n",
              "<table border=\"1\" class=\"dataframe\">\n",
              "  <thead>\n",
              "    <tr style=\"text-align: right;\">\n",
              "      <th></th>\n",
              "      <th>IFGF</th>\n",
              "      <th>Total de receitas realizadas (R$x1000)</th>\n",
              "      <th>Total de despesas empenhadas (R$x1000)</th>\n",
              "      <th>IDHm</th>\n",
              "      <th>PIB per capita</th>\n",
              "      <th>Percentual das receitas oriundas de fontes externas (%)</th>\n",
              "      <th>Área territorial</th>\n",
              "      <th>População</th>\n",
              "      <th>Pessoal ocupado</th>\n",
              "      <th>Percentual população ocupada</th>\n",
              "      <th>Área Urbanizada</th>\n",
              "      <th>Salário Médio dos trabalhadores (xSalário mínimo)</th>\n",
              "      <th>Matrículas no ensino fundamental</th>\n",
              "      <th>Matrículas no ensino médio</th>\n",
              "      <th>Docentes no ensino fundamental</th>\n",
              "      <th>Docentes no ensino médio</th>\n",
              "      <th>Mortalidade Infantil</th>\n",
              "    </tr>\n",
              "  </thead>\n",
              "  <tbody>\n",
              "    <tr>\n",
              "      <th>0</th>\n",
              "      <td>0</td>\n",
              "      <td>276417.09</td>\n",
              "      <td>247664.14</td>\n",
              "      <td>0.672</td>\n",
              "      <td>23683.22</td>\n",
              "      <td>74.8</td>\n",
              "      <td>5805159.0</td>\n",
              "      <td>113783.0</td>\n",
              "      <td>16354.0</td>\n",
              "      <td>14.5</td>\n",
              "      <td>28.63</td>\n",
              "      <td>2.2</td>\n",
              "      <td>16830.0</td>\n",
              "      <td>4379.0</td>\n",
              "      <td>771.0</td>\n",
              "      <td>274.0</td>\n",
              "      <td>13.04</td>\n",
              "    </tr>\n",
              "    <tr>\n",
              "      <th>1</th>\n",
              "      <td>1</td>\n",
              "      <td>28548.43</td>\n",
              "      <td>24977.85</td>\n",
              "      <td>0.549</td>\n",
              "      <td>7512.63</td>\n",
              "      <td>97.6</td>\n",
              "      <td>524374.0</td>\n",
              "      <td>8250.0</td>\n",
              "      <td>326.0</td>\n",
              "      <td>4.0</td>\n",
              "      <td>1.45</td>\n",
              "      <td>1.9</td>\n",
              "      <td>1140.0</td>\n",
              "      <td>234.0</td>\n",
              "      <td>111.0</td>\n",
              "      <td>8.0</td>\n",
              "      <td>14.29</td>\n",
              "    </tr>\n",
              "    <tr>\n",
              "      <th>2</th>\n",
              "      <td>1</td>\n",
              "      <td>70794.78</td>\n",
              "      <td>68523.70</td>\n",
              "      <td>0.558</td>\n",
              "      <td>7221.77</td>\n",
              "      <td>90.2</td>\n",
              "      <td>1875901.0</td>\n",
              "      <td>31967.0</td>\n",
              "      <td>1260.0</td>\n",
              "      <td>3.9</td>\n",
              "      <td>5.52</td>\n",
              "      <td>1.9</td>\n",
              "      <td>5014.0</td>\n",
              "      <td>1592.0</td>\n",
              "      <td>325.0</td>\n",
              "      <td>107.0</td>\n",
              "      <td>20.45</td>\n",
              "    </tr>\n",
              "    <tr>\n",
              "      <th>3</th>\n",
              "      <td>0</td>\n",
              "      <td>34241.63</td>\n",
              "      <td>32154.06</td>\n",
              "      <td>0.633</td>\n",
              "      <td>43877.65</td>\n",
              "      <td>94.8</td>\n",
              "      <td>11127384.0</td>\n",
              "      <td>11233.0</td>\n",
              "      <td>1165.0</td>\n",
              "      <td>10.4</td>\n",
              "      <td>3.07</td>\n",
              "      <td>1.8</td>\n",
              "      <td>1861.0</td>\n",
              "      <td>333.0</td>\n",
              "      <td>130.0</td>\n",
              "      <td>14.0</td>\n",
              "      <td>20.94</td>\n",
              "    </tr>\n",
              "    <tr>\n",
              "      <th>4</th>\n",
              "      <td>1</td>\n",
              "      <td>74474.98</td>\n",
              "      <td>67136.51</td>\n",
              "      <td>0.555</td>\n",
              "      <td>8010.30</td>\n",
              "      <td>95.9</td>\n",
              "      <td>7439615.0</td>\n",
              "      <td>42017.0</td>\n",
              "      <td>1592.0</td>\n",
              "      <td>3.8</td>\n",
              "      <td>9.44</td>\n",
              "      <td>1.7</td>\n",
              "      <td>7290.0</td>\n",
              "      <td>1370.0</td>\n",
              "      <td>556.0</td>\n",
              "      <td>116.0</td>\n",
              "      <td>17.83</td>\n",
              "    </tr>\n",
              "    <tr>\n",
              "      <th>...</th>\n",
              "      <td>...</td>\n",
              "      <td>...</td>\n",
              "      <td>...</td>\n",
              "      <td>...</td>\n",
              "      <td>...</td>\n",
              "      <td>...</td>\n",
              "      <td>...</td>\n",
              "      <td>...</td>\n",
              "      <td>...</td>\n",
              "      <td>...</td>\n",
              "      <td>...</td>\n",
              "      <td>...</td>\n",
              "      <td>...</td>\n",
              "      <td>...</td>\n",
              "      <td>...</td>\n",
              "      <td>...</td>\n",
              "      <td>...</td>\n",
              "    </tr>\n",
              "    <tr>\n",
              "      <th>166</th>\n",
              "      <td>1</td>\n",
              "      <td>95867.34</td>\n",
              "      <td>92155.89</td>\n",
              "      <td>0.542</td>\n",
              "      <td>6630.45</td>\n",
              "      <td>95.7</td>\n",
              "      <td>1958702.0</td>\n",
              "      <td>57813.0</td>\n",
              "      <td>2575.0</td>\n",
              "      <td>4.5</td>\n",
              "      <td>7.96</td>\n",
              "      <td>2.0</td>\n",
              "      <td>8200.0</td>\n",
              "      <td>1740.0</td>\n",
              "      <td>346.0</td>\n",
              "      <td>136.0</td>\n",
              "      <td>9.78</td>\n",
              "    </tr>\n",
              "    <tr>\n",
              "      <th>167</th>\n",
              "      <td>1</td>\n",
              "      <td>92120.11</td>\n",
              "      <td>89952.74</td>\n",
              "      <td>0.618</td>\n",
              "      <td>8663.99</td>\n",
              "      <td>94.8</td>\n",
              "      <td>1166745.0</td>\n",
              "      <td>52852.0</td>\n",
              "      <td>2521.0</td>\n",
              "      <td>4.8</td>\n",
              "      <td>8.80</td>\n",
              "      <td>1.9</td>\n",
              "      <td>8708.0</td>\n",
              "      <td>2298.0</td>\n",
              "      <td>511.0</td>\n",
              "      <td>94.0</td>\n",
              "      <td>14.07</td>\n",
              "    </tr>\n",
              "    <tr>\n",
              "      <th>168</th>\n",
              "      <td>0</td>\n",
              "      <td>92120.11</td>\n",
              "      <td>60752.47</td>\n",
              "      <td>0.596</td>\n",
              "      <td>7895.55</td>\n",
              "      <td>91.5</td>\n",
              "      <td>716719.0</td>\n",
              "      <td>32956.0</td>\n",
              "      <td>1558.0</td>\n",
              "      <td>4.7</td>\n",
              "      <td>6.40</td>\n",
              "      <td>1.9</td>\n",
              "      <td>5296.0</td>\n",
              "      <td>1685.0</td>\n",
              "      <td>361.0</td>\n",
              "      <td>72.0</td>\n",
              "      <td>10.89</td>\n",
              "    </tr>\n",
              "    <tr>\n",
              "      <th>169</th>\n",
              "      <td>1</td>\n",
              "      <td>92120.11</td>\n",
              "      <td>62014.71</td>\n",
              "      <td>0.570</td>\n",
              "      <td>8444.18</td>\n",
              "      <td>95.7</td>\n",
              "      <td>1193385.0</td>\n",
              "      <td>31520.0</td>\n",
              "      <td>2098.0</td>\n",
              "      <td>6.7</td>\n",
              "      <td>6.57</td>\n",
              "      <td>2.0</td>\n",
              "      <td>4563.0</td>\n",
              "      <td>1367.0</td>\n",
              "      <td>375.0</td>\n",
              "      <td>67.0</td>\n",
              "      <td>16.24</td>\n",
              "    </tr>\n",
              "    <tr>\n",
              "      <th>170</th>\n",
              "      <td>0</td>\n",
              "      <td>92120.11</td>\n",
              "      <td>84989.72</td>\n",
              "      <td>0.595</td>\n",
              "      <td>8779.78</td>\n",
              "      <td>96.2</td>\n",
              "      <td>2140109.0</td>\n",
              "      <td>52190.0</td>\n",
              "      <td>3225.0</td>\n",
              "      <td>6.2</td>\n",
              "      <td>11.31</td>\n",
              "      <td>1.7</td>\n",
              "      <td>7021.0</td>\n",
              "      <td>1852.0</td>\n",
              "      <td>483.0</td>\n",
              "      <td>154.0</td>\n",
              "      <td>19.89</td>\n",
              "    </tr>\n",
              "  </tbody>\n",
              "</table>\n",
              "<p>171 rows × 17 columns</p>\n",
              "</div>\n",
              "      <button class=\"colab-df-convert\" onclick=\"convertToInteractive('df-ff959e08-95c0-474a-a945-64f0fb118d8d')\"\n",
              "              title=\"Convert this dataframe to an interactive table.\"\n",
              "              style=\"display:none;\">\n",
              "        \n",
              "  <svg xmlns=\"http://www.w3.org/2000/svg\" height=\"24px\"viewBox=\"0 0 24 24\"\n",
              "       width=\"24px\">\n",
              "    <path d=\"M0 0h24v24H0V0z\" fill=\"none\"/>\n",
              "    <path d=\"M18.56 5.44l.94 2.06.94-2.06 2.06-.94-2.06-.94-.94-2.06-.94 2.06-2.06.94zm-11 1L8.5 8.5l.94-2.06 2.06-.94-2.06-.94L8.5 2.5l-.94 2.06-2.06.94zm10 10l.94 2.06.94-2.06 2.06-.94-2.06-.94-.94-2.06-.94 2.06-2.06.94z\"/><path d=\"M17.41 7.96l-1.37-1.37c-.4-.4-.92-.59-1.43-.59-.52 0-1.04.2-1.43.59L10.3 9.45l-7.72 7.72c-.78.78-.78 2.05 0 2.83L4 21.41c.39.39.9.59 1.41.59.51 0 1.02-.2 1.41-.59l7.78-7.78 2.81-2.81c.8-.78.8-2.07 0-2.86zM5.41 20L4 18.59l7.72-7.72 1.47 1.35L5.41 20z\"/>\n",
              "  </svg>\n",
              "      </button>\n",
              "      \n",
              "  <style>\n",
              "    .colab-df-container {\n",
              "      display:flex;\n",
              "      flex-wrap:wrap;\n",
              "      gap: 12px;\n",
              "    }\n",
              "\n",
              "    .colab-df-convert {\n",
              "      background-color: #E8F0FE;\n",
              "      border: none;\n",
              "      border-radius: 50%;\n",
              "      cursor: pointer;\n",
              "      display: none;\n",
              "      fill: #1967D2;\n",
              "      height: 32px;\n",
              "      padding: 0 0 0 0;\n",
              "      width: 32px;\n",
              "    }\n",
              "\n",
              "    .colab-df-convert:hover {\n",
              "      background-color: #E2EBFA;\n",
              "      box-shadow: 0px 1px 2px rgba(60, 64, 67, 0.3), 0px 1px 3px 1px rgba(60, 64, 67, 0.15);\n",
              "      fill: #174EA6;\n",
              "    }\n",
              "\n",
              "    [theme=dark] .colab-df-convert {\n",
              "      background-color: #3B4455;\n",
              "      fill: #D2E3FC;\n",
              "    }\n",
              "\n",
              "    [theme=dark] .colab-df-convert:hover {\n",
              "      background-color: #434B5C;\n",
              "      box-shadow: 0px 1px 3px 1px rgba(0, 0, 0, 0.15);\n",
              "      filter: drop-shadow(0px 1px 2px rgba(0, 0, 0, 0.3));\n",
              "      fill: #FFFFFF;\n",
              "    }\n",
              "  </style>\n",
              "\n",
              "      <script>\n",
              "        const buttonEl =\n",
              "          document.querySelector('#df-ff959e08-95c0-474a-a945-64f0fb118d8d button.colab-df-convert');\n",
              "        buttonEl.style.display =\n",
              "          google.colab.kernel.accessAllowed ? 'block' : 'none';\n",
              "\n",
              "        async function convertToInteractive(key) {\n",
              "          const element = document.querySelector('#df-ff959e08-95c0-474a-a945-64f0fb118d8d');\n",
              "          const dataTable =\n",
              "            await google.colab.kernel.invokeFunction('convertToInteractive',\n",
              "                                                     [key], {});\n",
              "          if (!dataTable) return;\n",
              "\n",
              "          const docLinkHtml = 'Like what you see? Visit the ' +\n",
              "            '<a target=\"_blank\" href=https://colab.research.google.com/notebooks/data_table.ipynb>data table notebook</a>'\n",
              "            + ' to learn more about interactive tables.';\n",
              "          element.innerHTML = '';\n",
              "          dataTable['output_type'] = 'display_data';\n",
              "          await google.colab.output.renderOutput(dataTable, element);\n",
              "          const docLink = document.createElement('div');\n",
              "          docLink.innerHTML = docLinkHtml;\n",
              "          element.appendChild(docLink);\n",
              "        }\n",
              "      </script>\n",
              "    </div>\n",
              "  </div>\n",
              "  "
            ]
          },
          "metadata": {},
          "execution_count": 206
        }
      ]
    },
    {
      "cell_type": "markdown",
      "source": [
        "## Transformação dos dados"
      ],
      "metadata": {
        "id": "JLloWzmFkSjl"
      }
    },
    {
      "cell_type": "code",
      "source": [
        "X = base_de_dados.iloc[:, 1:17].values\n",
        "\n",
        "X"
      ],
      "metadata": {
        "colab": {
          "base_uri": "https://localhost:8080/"
        },
        "id": "iHvttVtZbziT",
        "outputId": "2d5ded9f-142a-4b4b-821c-5f637c751d06"
      },
      "execution_count": null,
      "outputs": [
        {
          "output_type": "execute_result",
          "data": {
            "text/plain": [
              "array([[2.7641709e+05, 2.4766414e+05, 6.7200000e-01, ..., 7.7100000e+02,\n",
              "        2.7400000e+02, 1.3040000e+01],\n",
              "       [2.8548430e+04, 2.4977850e+04, 5.4900000e-01, ..., 1.1100000e+02,\n",
              "        8.0000000e+00, 1.4290000e+01],\n",
              "       [7.0794780e+04, 6.8523700e+04, 5.5800000e-01, ..., 3.2500000e+02,\n",
              "        1.0700000e+02, 2.0450000e+01],\n",
              "       ...,\n",
              "       [9.2120110e+04, 6.0752470e+04, 5.9600000e-01, ..., 3.6100000e+02,\n",
              "        7.2000000e+01, 1.0890000e+01],\n",
              "       [9.2120110e+04, 6.2014710e+04, 5.7000000e-01, ..., 3.7500000e+02,\n",
              "        6.7000000e+01, 1.6240000e+01],\n",
              "       [9.2120110e+04, 8.4989720e+04, 5.9500000e-01, ..., 4.8300000e+02,\n",
              "        1.5400000e+02, 1.9890000e+01]])"
            ]
          },
          "metadata": {},
          "execution_count": 132
        }
      ]
    },
    {
      "cell_type": "code",
      "source": [
        "y = base_de_dados.iloc[:, 0].values\n",
        "\n",
        "y"
      ],
      "metadata": {
        "colab": {
          "base_uri": "https://localhost:8080/"
        },
        "id": "hiN7sjdbcqzh",
        "outputId": "82211d00-18fc-4408-a594-2021da898f10"
      },
      "execution_count": null,
      "outputs": [
        {
          "output_type": "execute_result",
          "data": {
            "text/plain": [
              "array([0, 1, 1, 0, 1, 1, 1, 1, 0, 0, 1, 0, 0, 1, 0, 1, 1, 1, 0, 1, 1, 1,\n",
              "       1, 0, 1, 1, 1, 0, 0, 0, 0, 1, 1, 1, 0, 1, 1, 0, 0, 0, 1, 1, 0, 1,\n",
              "       1, 0, 1, 1, 0, 0, 0, 1, 0, 1, 0, 0, 1, 1, 1, 0, 1, 1, 0, 0, 1, 0,\n",
              "       1, 1, 1, 1, 1, 0, 1, 1, 1, 1, 1, 1, 0, 0, 1, 1, 1, 0, 1, 1, 1, 1,\n",
              "       0, 1, 1, 0, 1, 0, 1, 1, 0, 1, 1, 1, 0, 1, 1, 1, 1, 1, 1, 1, 1, 0,\n",
              "       1, 1, 1, 1, 1, 1, 1, 0, 0, 1, 1, 1, 1, 0, 1, 1, 0, 1, 0, 0, 1, 1,\n",
              "       1, 0, 1, 0, 1, 0, 1, 1, 1, 1, 0, 0, 1, 1, 0, 1, 0, 1, 1, 1, 1, 0,\n",
              "       0, 1, 1, 1, 1, 1, 1, 1, 1, 1, 0, 1, 1, 1, 0, 1, 0])"
            ]
          },
          "metadata": {},
          "execution_count": 133
        }
      ]
    },
    {
      "cell_type": "code",
      "source": [
        "from sklearn.preprocessing import StandardScaler\n",
        "sc = StandardScaler()\n",
        "X = sc.fit_transform(X)\n",
        "X"
      ],
      "metadata": {
        "id": "ht2Jj3oldANx",
        "colab": {
          "base_uri": "https://localhost:8080/"
        },
        "outputId": "a1f754b7-9d0d-4db6-9a19-40cea1cf8d1d"
      },
      "execution_count": null,
      "outputs": [
        {
          "output_type": "execute_result",
          "data": {
            "text/plain": [
              "array([[ 0.90675813,  0.881531  ,  2.05160433, ...,  0.74859994,\n",
              "         0.73627771, -0.32168608],\n",
              "       [-0.21476769, -0.23651976, -0.65093177, ..., -0.39371816,\n",
              "        -0.29144279, -0.14534119],\n",
              "       [-0.02361657, -0.01788721, -0.45318522, ..., -0.02333017,\n",
              "         0.09105469,  0.72368644],\n",
              "       ...,\n",
              "       [ 0.07287368, -0.05690456,  0.38174463, ...,  0.03897809,\n",
              "        -0.04417169, -0.6249993 ],\n",
              "       [ 0.07287368, -0.05056718, -0.18952317, ...,  0.06320908,\n",
              "        -0.06348975,  0.12975684],\n",
              "       [ 0.07287368,  0.06478446,  0.35977279, ...,  0.25013386,\n",
              "         0.2726444 ,  0.64468393]])"
            ]
          },
          "metadata": {},
          "execution_count": 134
        }
      ]
    },
    {
      "cell_type": "code",
      "source": [
        "from sklearn.model_selection import train_test_split\n",
        "X_train, X_test, y_train, y_test = train_test_split(X, y, test_size = 0.2)"
      ],
      "metadata": {
        "id": "p6QYvvVydDRf"
      },
      "execution_count": null,
      "outputs": []
    },
    {
      "cell_type": "markdown",
      "source": [
        "O modelo sequencial é uma pilha linear de camadas, onde as camadas são adicionadas sequencialmente.\n"
      ],
      "metadata": {
        "id": "h4k-8NKPUee3"
      }
    },
    {
      "cell_type": "markdown",
      "source": [
        "## Criação da rede neural"
      ],
      "metadata": {
        "id": "r0P0-YINnxME"
      }
    },
    {
      "cell_type": "code",
      "source": [
        "classifier = tf.keras.models.Sequential()\n",
        "classifier.add(tf.keras.layers.Dense(units=400, activation='relu', input_shape=(16, )))\n",
        "classifier.add(tf.keras.layers.Dropout(0.2))\n",
        "classifier.add(tf.keras.layers.Dense(units=500, activation='relu'))\n",
        "classifier.add(tf.keras.layers.Dropout(0.1))\n",
        "classifier.add(tf.keras.layers.Dense(units=500, activation='relu'))\n",
        "classifier.add(tf.keras.layers.Dropout(0.2))\n",
        "classifier.add(tf.keras.layers.Dense(units=1, activation='sigmoid'))"
      ],
      "metadata": {
        "id": "wVbrhdmwdDTd"
      },
      "execution_count": null,
      "outputs": []
    },
    {
      "cell_type": "markdown",
      "source": [
        "Adicionamos uma camada densa (fully connected) à rede neural com 400 unidades (neurônios). A função de ativação utilizada é a função ReLU (Rectified Linear Unit). A camada possui input_shape=(16, ), o que indica que a entrada tem 16 características.\n"
      ],
      "metadata": {
        "id": "c3JTTVt4UTL1"
      }
    },
    {
      "cell_type": "code",
      "source": [
        "classifier.summary()"
      ],
      "metadata": {
        "colab": {
          "base_uri": "https://localhost:8080/"
        },
        "id": "LFygNDnqdDXD",
        "outputId": "0069a105-c540-49ba-c981-b425084c8505"
      },
      "execution_count": null,
      "outputs": [
        {
          "output_type": "stream",
          "name": "stdout",
          "text": [
            "Model: \"sequential_3\"\n",
            "_________________________________________________________________\n",
            " Layer (type)                Output Shape              Param #   \n",
            "=================================================================\n",
            " dense_12 (Dense)            (None, 400)               6800      \n",
            "                                                                 \n",
            " dropout_9 (Dropout)         (None, 400)               0         \n",
            "                                                                 \n",
            " dense_13 (Dense)            (None, 500)               200500    \n",
            "                                                                 \n",
            " dropout_10 (Dropout)        (None, 500)               0         \n",
            "                                                                 \n",
            " dense_14 (Dense)            (None, 500)               250500    \n",
            "                                                                 \n",
            " dropout_11 (Dropout)        (None, 500)               0         \n",
            "                                                                 \n",
            " dense_15 (Dense)            (None, 1)                 501       \n",
            "                                                                 \n",
            "=================================================================\n",
            "Total params: 458,301\n",
            "Trainable params: 458,301\n",
            "Non-trainable params: 0\n",
            "_________________________________________________________________\n"
          ]
        }
      ]
    },
    {
      "cell_type": "code",
      "source": [
        "classifier.compile(optimizer='Adam', loss='binary_crossentropy', metrics = ['accuracy'])"
      ],
      "metadata": {
        "id": "dIVXh-A0dKKM"
      },
      "execution_count": null,
      "outputs": []
    },
    {
      "cell_type": "markdown",
      "source": [
        "Estamos usando o otimizador Adam, que é uma combinação do algoritmo RMSProp com o algoritmo de momento."
      ],
      "metadata": {
        "id": "MJDAjjCZU33x"
      }
    },
    {
      "cell_type": "markdown",
      "source": [
        "## Treinamento da rede"
      ],
      "metadata": {
        "id": "9WDcY88gnzQk"
      }
    },
    {
      "cell_type": "code",
      "source": [
        "epochs_hist = classifier.fit(X_train, y_train, epochs = 50)"
      ],
      "metadata": {
        "colab": {
          "base_uri": "https://localhost:8080/"
        },
        "id": "3xPhJbGydKMg",
        "outputId": "2f15c385-1782-4c20-8977-968cc9f207c9"
      },
      "execution_count": null,
      "outputs": [
        {
          "output_type": "stream",
          "name": "stdout",
          "text": [
            "Epoch 1/50\n",
            "5/5 [==============================] - 2s 7ms/step - loss: 0.7168 - accuracy: 0.6397\n",
            "Epoch 2/50\n",
            "5/5 [==============================] - 0s 24ms/step - loss: 0.6394 - accuracy: 0.6765\n",
            "Epoch 3/50\n",
            "5/5 [==============================] - 0s 14ms/step - loss: 0.6060 - accuracy: 0.6985\n",
            "Epoch 4/50\n",
            "5/5 [==============================] - 0s 19ms/step - loss: 0.5809 - accuracy: 0.7206\n",
            "Epoch 5/50\n",
            "5/5 [==============================] - 0s 21ms/step - loss: 0.5792 - accuracy: 0.7206\n",
            "Epoch 6/50\n",
            "5/5 [==============================] - 0s 8ms/step - loss: 0.5545 - accuracy: 0.7426\n",
            "Epoch 7/50\n",
            "5/5 [==============================] - 0s 13ms/step - loss: 0.5482 - accuracy: 0.7500\n",
            "Epoch 8/50\n",
            "5/5 [==============================] - 0s 10ms/step - loss: 0.5239 - accuracy: 0.7647\n",
            "Epoch 9/50\n",
            "5/5 [==============================] - 0s 10ms/step - loss: 0.5177 - accuracy: 0.7500\n",
            "Epoch 10/50\n",
            "5/5 [==============================] - 0s 16ms/step - loss: 0.5188 - accuracy: 0.7353\n",
            "Epoch 11/50\n",
            "5/5 [==============================] - 0s 10ms/step - loss: 0.5150 - accuracy: 0.7279\n",
            "Epoch 12/50\n",
            "5/5 [==============================] - 0s 9ms/step - loss: 0.4811 - accuracy: 0.7794\n",
            "Epoch 13/50\n",
            "5/5 [==============================] - 0s 10ms/step - loss: 0.4773 - accuracy: 0.7574\n",
            "Epoch 14/50\n",
            "5/5 [==============================] - 0s 10ms/step - loss: 0.4658 - accuracy: 0.8015\n",
            "Epoch 15/50\n",
            "5/5 [==============================] - 0s 10ms/step - loss: 0.4558 - accuracy: 0.8088\n",
            "Epoch 16/50\n",
            "5/5 [==============================] - 0s 8ms/step - loss: 0.4424 - accuracy: 0.7794\n",
            "Epoch 17/50\n",
            "5/5 [==============================] - 0s 8ms/step - loss: 0.4462 - accuracy: 0.7647\n",
            "Epoch 18/50\n",
            "5/5 [==============================] - 0s 7ms/step - loss: 0.4221 - accuracy: 0.8162\n",
            "Epoch 19/50\n",
            "5/5 [==============================] - 0s 6ms/step - loss: 0.4170 - accuracy: 0.8088\n",
            "Epoch 20/50\n",
            "5/5 [==============================] - 0s 7ms/step - loss: 0.4668 - accuracy: 0.8088\n",
            "Epoch 21/50\n",
            "5/5 [==============================] - 0s 7ms/step - loss: 0.4255 - accuracy: 0.7794\n",
            "Epoch 22/50\n",
            "5/5 [==============================] - 0s 12ms/step - loss: 0.4324 - accuracy: 0.7721\n",
            "Epoch 23/50\n",
            "5/5 [==============================] - 0s 8ms/step - loss: 0.3669 - accuracy: 0.8529\n",
            "Epoch 24/50\n",
            "5/5 [==============================] - 0s 10ms/step - loss: 0.3703 - accuracy: 0.8603\n",
            "Epoch 25/50\n",
            "5/5 [==============================] - 0s 8ms/step - loss: 0.3699 - accuracy: 0.8309\n",
            "Epoch 26/50\n",
            "5/5 [==============================] - 0s 9ms/step - loss: 0.3692 - accuracy: 0.8309\n",
            "Epoch 27/50\n",
            "5/5 [==============================] - 0s 4ms/step - loss: 0.3176 - accuracy: 0.8824\n",
            "Epoch 28/50\n",
            "5/5 [==============================] - 0s 4ms/step - loss: 0.3129 - accuracy: 0.8676\n",
            "Epoch 29/50\n",
            "5/5 [==============================] - 0s 4ms/step - loss: 0.2890 - accuracy: 0.8824\n",
            "Epoch 30/50\n",
            "5/5 [==============================] - 0s 5ms/step - loss: 0.3023 - accuracy: 0.8603\n",
            "Epoch 31/50\n",
            "5/5 [==============================] - 0s 5ms/step - loss: 0.3053 - accuracy: 0.8750\n",
            "Epoch 32/50\n",
            "5/5 [==============================] - 0s 5ms/step - loss: 0.2622 - accuracy: 0.8897\n",
            "Epoch 33/50\n",
            "5/5 [==============================] - 0s 4ms/step - loss: 0.3093 - accuracy: 0.8529\n",
            "Epoch 34/50\n",
            "5/5 [==============================] - 0s 4ms/step - loss: 0.2415 - accuracy: 0.8897\n",
            "Epoch 35/50\n",
            "5/5 [==============================] - 0s 5ms/step - loss: 0.2384 - accuracy: 0.9265\n",
            "Epoch 36/50\n",
            "5/5 [==============================] - 0s 4ms/step - loss: 0.2568 - accuracy: 0.9191\n",
            "Epoch 37/50\n",
            "5/5 [==============================] - 0s 4ms/step - loss: 0.2268 - accuracy: 0.9118\n",
            "Epoch 38/50\n",
            "5/5 [==============================] - 0s 5ms/step - loss: 0.2082 - accuracy: 0.9044\n",
            "Epoch 39/50\n",
            "5/5 [==============================] - 0s 4ms/step - loss: 0.2306 - accuracy: 0.9118\n",
            "Epoch 40/50\n",
            "5/5 [==============================] - 0s 4ms/step - loss: 0.1869 - accuracy: 0.9338\n",
            "Epoch 41/50\n",
            "5/5 [==============================] - 0s 4ms/step - loss: 0.1764 - accuracy: 0.9191\n",
            "Epoch 42/50\n",
            "5/5 [==============================] - 0s 4ms/step - loss: 0.1813 - accuracy: 0.9265\n",
            "Epoch 43/50\n",
            "5/5 [==============================] - 0s 4ms/step - loss: 0.1629 - accuracy: 0.9412\n",
            "Epoch 44/50\n",
            "5/5 [==============================] - 0s 4ms/step - loss: 0.1539 - accuracy: 0.9265\n",
            "Epoch 45/50\n",
            "5/5 [==============================] - 0s 5ms/step - loss: 0.1650 - accuracy: 0.9338\n",
            "Epoch 46/50\n",
            "5/5 [==============================] - 0s 4ms/step - loss: 0.1762 - accuracy: 0.9338\n",
            "Epoch 47/50\n",
            "5/5 [==============================] - 0s 6ms/step - loss: 0.3430 - accuracy: 0.8897\n",
            "Epoch 48/50\n",
            "5/5 [==============================] - 0s 4ms/step - loss: 0.2931 - accuracy: 0.9191\n",
            "Epoch 49/50\n",
            "5/5 [==============================] - 0s 4ms/step - loss: 0.2292 - accuracy: 0.9044\n",
            "Epoch 50/50\n",
            "5/5 [==============================] - 0s 7ms/step - loss: 0.2263 - accuracy: 0.9118\n"
          ]
        }
      ]
    },
    {
      "cell_type": "markdown",
      "source": [
        "## Visualizando a qualidade do treinamento"
      ],
      "metadata": {
        "id": "tkL99hPPP4Fs"
      }
    },
    {
      "cell_type": "code",
      "source": [
        "plt.plot(epochs_hist.history['loss'])\n",
        "plt.title('Loss x Epocas')\n",
        "plt.xlabel('Epoch')\n",
        "plt.ylabel('Training and Validation Loss')\n",
        "plt.legend(['Training Loss'])"
      ],
      "metadata": {
        "colab": {
          "base_uri": "https://localhost:8080/",
          "height": 489
        },
        "id": "95TQhjGAI0id",
        "outputId": "fd8a6f35-803e-4d86-8da8-f4cffec94aa1"
      },
      "execution_count": null,
      "outputs": [
        {
          "output_type": "execute_result",
          "data": {
            "text/plain": [
              "<matplotlib.legend.Legend at 0x7f3cd6106a70>"
            ]
          },
          "metadata": {},
          "execution_count": 223
        },
        {
          "output_type": "display_data",
          "data": {
            "text/plain": [
              "<Figure size 640x480 with 1 Axes>"
            ],
            "image/png": "[encoded data removed]"
          },
          "metadata": {}
        }
      ]
    },
    {
      "cell_type": "code",
      "source": [
        "plt.plot(epochs_hist.history['accuracy'])\n",
        "plt.title('Accuracy X Epocas')\n",
        "plt.xlabel('Epoch')\n",
        "plt.ylabel('Training and Validation Loss')\n",
        "plt.legend(['Training accuracy'])"
      ],
      "metadata": {
        "colab": {
          "base_uri": "https://localhost:8080/",
          "height": 489
        },
        "id": "nRZxamNQNr_6",
        "outputId": "1c4a08ff-af50-4d7e-e00e-81b04444b753"
      },
      "execution_count": null,
      "outputs": [
        {
          "output_type": "execute_result",
          "data": {
            "text/plain": [
              "<matplotlib.legend.Legend at 0x7f3d603647c0>"
            ]
          },
          "metadata": {},
          "execution_count": 224
        },
        {
          "output_type": "display_data",
          "data": {
            "text/plain": [
              "<Figure size 640x480 with 1 Axes>"
            ],
            "image/png": "[encoded data removed]"
          },
          "metadata": {}
        }
      ]
    },
    {
      "cell_type": "markdown",
      "source": [
        "## Data Visualization!"
      ],
      "metadata": {
        "id": "OxpklggCQknf"
      }
    },
    {
      "cell_type": "code",
      "source": [
        "epochs = epochs_hist.epoch\n",
        "accuracy = epochs_hist.history['accuracy']\n",
        "loss=epochs_hist.history['loss']\n",
        "\n",
        "plt.plot(epochs, accuracy, marker='o')  # Gráfico de linha com marcadores circulares\n",
        "plt.xlabel('Épocas')\n",
        "plt.ylabel('Acurácia')\n",
        "plt.title('Gráfico de Classificação de Acurácia')\n",
        "plt.grid(True)  # Adiciona uma grade ao gráfico\n",
        "plt.show()  # Mostra o gráfico"
      ],
      "metadata": {
        "colab": {
          "base_uri": "https://localhost:8080/",
          "height": 474
        },
        "id": "d9-9g68rXHpG",
        "outputId": "8dde72df-b7c9-4161-a32d-e8e131d42703"
      },
      "execution_count": null,
      "outputs": [
        {
          "output_type": "display_data",
          "data": {
            "text/plain": [
              "<Figure size 640x480 with 1 Axes>"
            ],
            "image/png": "[encoded data removed]"
          },
          "metadata": {}
        }
      ]
    },
    {
      "cell_type": "markdown",
      "source": [
        "Com o aumento das epocas é perceptivel o aumento da acurácia"
      ],
      "metadata": {
        "id": "na1Gc5oCqNUH"
      }
    },
    {
      "cell_type": "markdown",
      "source": [
        "## Validação com dados reais"
      ],
      "metadata": {
        "id": "OShWWF_qn3uf"
      }
    },
    {
      "cell_type": "code",
      "source": [
        "y_pred = classifier.predict(X_test)"
      ],
      "metadata": {
        "colab": {
          "base_uri": "https://localhost:8080/"
        },
        "id": "ukd1wbQLdKP7",
        "outputId": "21c743c1-1fff-44a9-deac-101f4c922dbe"
      },
      "execution_count": null,
      "outputs": [
        {
          "output_type": "stream",
          "name": "stdout",
          "text": [
            "2/2 [==============================] - 0s 5ms/step\n"
          ]
        }
      ]
    },
    {
      "cell_type": "code",
      "source": [
        "y_pred = (y_pred > 0.5)"
      ],
      "metadata": {
        "id": "Jg4ZCORRdKRy"
      },
      "execution_count": null,
      "outputs": []
    },
    {
      "cell_type": "markdown",
      "source": [
        "Lembre-se de que as previsões retornadas pelo método predict() serão valores contínuos entre 0 e 1, pois estamos usando a função de ativação sigmoid na última camada da rede neural. Se você deseja obter previsões binárias (0 ou 1), você pode aplicar um limiar (threshold) às previsões, por exemplo, usando y_pred = (y_pred > 0.5).astype(int). Isso irá converter os valores de y_pred em 0 ou 1 com base em um limiar de 0.5."
      ],
      "metadata": {
        "id": "QAs2pdxKVNrb"
      }
    },
    {
      "cell_type": "code",
      "source": [
        "y_pred = np.argmax(y_pred, axis=1)"
      ],
      "metadata": {
        "id": "khgCykdOaqhO"
      },
      "execution_count": null,
      "outputs": []
    },
    {
      "cell_type": "code",
      "source": [
        "epochs = epochs_hist.epoch\n",
        "train_accuracy = epochs_hist.history['accuracy']\n",
        "val_accuracy = y_pred"
      ],
      "metadata": {
        "id": "NAUTIyMtZfV5"
      },
      "execution_count": null,
      "outputs": []
    },
    {
      "cell_type": "code",
      "source": [
        "from sklearn.metrics import confusion_matrix, ConfusionMatrixDisplay\n",
        "\n",
        "y_train_pred = classifier.predict(X_train)\n",
        "y_train_pred = (y_train_pred > 0.5)\n",
        "cm = confusion_matrix(y_train, y_train_pred)\n",
        "\n",
        "ConfusionMatrixDisplay(confusion_matrix=cm).plot()\n",
        "plt.grid(False)\n",
        "plt.title(\"Matriz confusão colorida\")\n",
        "plt.show()"
      ],
      "metadata": {
        "colab": {
          "base_uri": "https://localhost:8080/",
          "height": 489
        },
        "id": "y3_dSblLaWnM",
        "outputId": "4b75fbab-205a-43eb-e459-2ff0884644fa"
      },
      "execution_count": null,
      "outputs": [
        {
          "output_type": "stream",
          "name": "stdout",
          "text": [
            "5/5 [==============================] - 0s 2ms/step\n"
          ]
        },
        {
          "output_type": "display_data",
          "data": {
            "text/plain": [
              "<Figure size 640x480 with 2 Axes>"
            ],
            "image/png": "[encoded data removed]"
          },
          "metadata": {}
        }
      ]
    },
    {
      "cell_type": "code",
      "source": [
        "plt.figure(figsize=(10, 8))\n",
        "sns.heatmap(cm, annot=True, fmt='d', cmap='Blues')\n",
        "plt.xlabel('Classe Predita')\n",
        "plt.ylabel('Classe Verdadeira')\n",
        "plt.title('Matriz de Confusão cores normais')\n",
        "plt.show()"
      ],
      "metadata": {
        "colab": {
          "base_uri": "https://localhost:8080/",
          "height": 718
        },
        "id": "yijJFzAzaQ6e",
        "outputId": "0dcb117d-9099-4018-ccab-c142f39e1a56"
      },
      "execution_count": null,
      "outputs": [
        {
          "output_type": "display_data",
          "data": {
            "text/plain": [
              "<Figure size 1000x800 with 2 Axes>"
            ],
            "image/png": "[encoded data removed]"
          },
          "metadata": {}
        }
      ]
    },
    {
      "cell_type": "markdown",
      "source": [
        "## Importando e visualizando a base de resposta"
      ],
      "metadata": {
        "id": "gTHAGSPqn9CK"
      }
    },
    {
      "cell_type": "code",
      "source": [
        "predict_data = pd.read_csv('/content/drive/MyDrive/IA/base_de_avaliacao.csv',sep=\";\")"
      ],
      "metadata": {
        "id": "Du8dECel7SiF"
      },
      "execution_count": null,
      "outputs": []
    },
    {
      "cell_type": "code",
      "source": [
        "predict_data"
      ],
      "metadata": {
        "colab": {
          "base_uri": "https://localhost:8080/",
          "height": 1140
        },
        "id": "d-Fx4vtRQYp5",
        "outputId": "785afd5e-6ac1-4a4c-bdc6-f7b645862c0c"
      },
      "execution_count": null,
      "outputs": [
        {
          "output_type": "execute_result",
          "data": {
            "text/plain": [
              "                     Município IFGF Total de receitas realizadas (R$x1000)  \\\n",
              "0      Alto Alegre do Maranhão    ?                               48180,12   \n",
              "1                        Arame    ?                               69273,85   \n",
              "2              Barão de Grajaú    ?                               39740,96   \n",
              "3                       Cajari    ?                               41227,11   \n",
              "4        Conceição do Lago-Açu    ?                               35309,92   \n",
              "5              Fernando Falcão    ?                               28139,66   \n",
              "6      Governador Nunes Freire    ?                               54743,82   \n",
              "7           Humberto de Campos    ?                               58526,41   \n",
              "8               Igarapé Grande    ?                               26782,92   \n",
              "9                  João Lisboa    ?                               52757,39   \n",
              "10                  Maracaçumé    ?                               43679,42   \n",
              "11                      Morros    ?                               41100,42   \n",
              "12                  Peri Mirim    ?                               25497,08   \n",
              "13           Presidente Vargas    ?                               29682,36   \n",
              "14  Santa Filomena do Maranhão    ?                               16907,96   \n",
              "15        Santa Luzia do Paruá    ?                               46382,69   \n",
              "16    São Domingos do Maranhão    ?                               63101,85   \n",
              "17         São José de Ribamar    ?                              322585,37   \n",
              "18                   Satubinha    ?                               28584,08   \n",
              "19     Vila Nova dos Martírios    ?                               92120,11   \n",
              "\n",
              "   Total de despesas empenhadas (R$x1000)   IDHm PIB per capita  \\\n",
              "0                                47273,24  0,554        8770,52   \n",
              "1                                71709,47  0,521        5902,11   \n",
              "2                                 40114,7  0,592       11816,72   \n",
              "3                                34447,37  0,523        5748,61   \n",
              "4                                33722,37  0,512        8146,21   \n",
              "5                                26666,09  0,443         8051,5   \n",
              "6                                56990,05  0,569        8849,43   \n",
              "7                                53163,82  0,535        5831,58   \n",
              "8                                26927,56  0,614        9132,96   \n",
              "9                                50472,16  0,641        9874,08   \n",
              "10                               44002,65  0,582        8435,29   \n",
              "11                               43043,54  0,548        6674,91   \n",
              "12                               24520,16  0,599        5677,97   \n",
              "13                               26548,14  0,587        6456,79   \n",
              "14                               16519,89  0,525         6980,1   \n",
              "15                               45363,62  0,599         9502,7   \n",
              "16                               62502,24  0,582        9479,45   \n",
              "17                               269724,8  0,708       12095,58   \n",
              "18                               28151,57  0,493        5690,84   \n",
              "19                               35429,17  0,581       10104,78   \n",
              "\n",
              "   Percentual das receitas oriundas de fontes externas (%)  Área territorial  \\\n",
              "0                                                95,4                 392750   \n",
              "1                                                 NaN                1789730   \n",
              "2                                                97,5                2209414   \n",
              "3                                                98,5                 662066   \n",
              "4                                                99,1                 725664   \n",
              "5                                                  94                5086589   \n",
              "6                                                98,9                1037130   \n",
              "7                                                97,3                1714625   \n",
              "8                                                97,4                 346218   \n",
              "9                                                95,9                1137104   \n",
              "10                                               97,2                 635758   \n",
              "11                                                NaN                1712121   \n",
              "12                                               97,3                 397994   \n",
              "13                                               98,6                 330765   \n",
              "14                                               98,3                 623213   \n",
              "15                                                 96                1010483   \n",
              "16                                               95,4                1151978   \n",
              "17                                               77,4                 180363   \n",
              "18                                               94,2                 441811   \n",
              "19                                               93,5                1190008   \n",
              "\n",
              "    População  Pessoal ocupado Percentual população ocupada Área Urbanizada  \\\n",
              "0       28066              978                          3,5            6,56   \n",
              "1       47095             2146                          4,6            9,38   \n",
              "2       19026             1581                          8,4            5,19   \n",
              "3       19521              642                          3,3            2,04   \n",
              "4       16559              787                          4,8            2,28   \n",
              "5       10559              309                            3            5,93   \n",
              "6       25502             1408                          5,5            4,95   \n",
              "7       29143             1795                          6,2             6,3   \n",
              "8       11453              527                          4,6            2,07   \n",
              "9       23677             1720                          7,2            7,28   \n",
              "10      21773             1053                          4,9            5,01   \n",
              "11      19708              949                          4,8            4,65   \n",
              "12      14371              566                          3,9            2,73   \n",
              "13      11328              674                            6            1,79   \n",
              "14       7878              286                          3,7            1,17   \n",
              "15      25487             1986                          7,8            5,32   \n",
              "16      34391             1688                          4,9            9,92   \n",
              "17     180345            18729                         10,5           54,12   \n",
              "18      14274              419                            3            1,69   \n",
              "19      13800             1201                          8,8            2,94   \n",
              "\n",
              "   Salário Médio dos trabalhadores (xSalário mínimo)  \\\n",
              "0                                                1,5   \n",
              "1                                                2,1   \n",
              "2                                                1,6   \n",
              "3                                                1,7   \n",
              "4                                                2,4   \n",
              "5                                                2,1   \n",
              "6                                                2,3   \n",
              "7                                                1,8   \n",
              "8                                                  2   \n",
              "9                                                1,6   \n",
              "10                                               1,8   \n",
              "11                                               1,9   \n",
              "12                                               1,6   \n",
              "13                                                 2   \n",
              "14                                                 2   \n",
              "15                                               1,8   \n",
              "16                                               1,5   \n",
              "17                                               1,8   \n",
              "18                                               1,4   \n",
              "19                                                 2   \n",
              "\n",
              "    Matrículas no ensino fundamental  Matrículas no ensino médio  \\\n",
              "0                               4260                        1166   \n",
              "1                               6620                        1450   \n",
              "2                               2571                         735   \n",
              "3                               3413                         673   \n",
              "4                               3428                         423   \n",
              "5                               2357                         387   \n",
              "6                               4444                        1061   \n",
              "7                               5970                        1268   \n",
              "8                               1506                         283   \n",
              "9                               4549                         933   \n",
              "10                              4035                         804   \n",
              "11                              3832                         733   \n",
              "12                              1707                         494   \n",
              "13                              2327                         529   \n",
              "14                              1071                         191   \n",
              "15                              3773                        1013   \n",
              "16                              5920                        1669   \n",
              "17                             27544                        4080   \n",
              "18                              1970                         287   \n",
              "19                              1798                         365   \n",
              "\n",
              "    Docentes no ensino fundamental  Docentes no ensino médio  \\\n",
              "0                              276                        46   \n",
              "1                              446                        78   \n",
              "2                              190                        52   \n",
              "3                              311                        26   \n",
              "4                              260                        17   \n",
              "5                              178                        24   \n",
              "6                              237                        58   \n",
              "7                              332                        44   \n",
              "8                              126                        14   \n",
              "9                              310                        45   \n",
              "10                             279                        42   \n",
              "11                             198                        54   \n",
              "12                             152                        20   \n",
              "13                             144                        31   \n",
              "14                              95                        15   \n",
              "15                             290                        49   \n",
              "16                             488                        57   \n",
              "17                             979                       326   \n",
              "18                             115                        25   \n",
              "19                              58                        17   \n",
              "\n",
              "   Mortalidade Infantil  \n",
              "0                 15,11  \n",
              "1                 12,68  \n",
              "2                 14,98  \n",
              "3                 19,61  \n",
              "4                 20,75  \n",
              "5                 29,79  \n",
              "6                  6,94  \n",
              "7                 17,54  \n",
              "8                 17,54  \n",
              "9                 16,71  \n",
              "10                 5,57  \n",
              "11                17,09  \n",
              "12                15,04  \n",
              "13                 9,66  \n",
              "14                  NaN  \n",
              "15                 8,29  \n",
              "16                 8,45  \n",
              "17                16,59  \n",
              "18                25,97  \n",
              "19                18,75  "
            ],
            "text/html": [
              "\n",
              "  <div id=\"df-31e87365-858e-4886-9fc0-f42095b25dda\">\n",
              "    <div class=\"colab-df-container\">\n",
              "      <div>\n",
              "<style scoped>\n",
              "    .dataframe tbody tr th:only-of-type {\n",
              "        vertical-align: middle;\n",
              "    }\n",
              "\n",
              "    .dataframe tbody tr th {\n",
              "        vertical-align: top;\n",
              "    }\n",
              "\n",
              "    .dataframe thead th {\n",
              "        text-align: right;\n",
              "    }\n",
              "</style>\n",
              "<table border=\"1\" class=\"dataframe\">\n",
              "  <thead>\n",
              "    <tr style=\"text-align: right;\">\n",
              "      <th></th>\n",
              "      <th>Município</th>\n",
              "      <th>IFGF</th>\n",
              "      <th>Total de receitas realizadas (R$x1000)</th>\n",
              "      <th>Total de despesas empenhadas (R$x1000)</th>\n",
              "      <th>IDHm</th>\n",
              "      <th>PIB per capita</th>\n",
              "      <th>Percentual das receitas oriundas de fontes externas (%)</th>\n",
              "      <th>Área territorial</th>\n",
              "      <th>População</th>\n",
              "      <th>Pessoal ocupado</th>\n",
              "      <th>Percentual população ocupada</th>\n",
              "      <th>Área Urbanizada</th>\n",
              "      <th>Salário Médio dos trabalhadores (xSalário mínimo)</th>\n",
              "      <th>Matrículas no ensino fundamental</th>\n",
              "      <th>Matrículas no ensino médio</th>\n",
              "      <th>Docentes no ensino fundamental</th>\n",
              "      <th>Docentes no ensino médio</th>\n",
              "      <th>Mortalidade Infantil</th>\n",
              "    </tr>\n",
              "  </thead>\n",
              "  <tbody>\n",
              "    <tr>\n",
              "      <th>0</th>\n",
              "      <td>Alto Alegre do Maranhão</td>\n",
              "      <td>?</td>\n",
              "      <td>48180,12</td>\n",
              "      <td>47273,24</td>\n",
              "      <td>0,554</td>\n",
              "      <td>8770,52</td>\n",
              "      <td>95,4</td>\n",
              "      <td>392750</td>\n",
              "      <td>28066</td>\n",
              "      <td>978</td>\n",
              "      <td>3,5</td>\n",
              "      <td>6,56</td>\n",
              "      <td>1,5</td>\n",
              "      <td>4260</td>\n",
              "      <td>1166</td>\n",
              "      <td>276</td>\n",
              "      <td>46</td>\n",
              "      <td>15,11</td>\n",
              "    </tr>\n",
              "    <tr>\n",
              "      <th>1</th>\n",
              "      <td>Arame</td>\n",
              "      <td>?</td>\n",
              "      <td>69273,85</td>\n",
              "      <td>71709,47</td>\n",
              "      <td>0,521</td>\n",
              "      <td>5902,11</td>\n",
              "      <td>NaN</td>\n",
              "      <td>1789730</td>\n",
              "      <td>47095</td>\n",
              "      <td>2146</td>\n",
              "      <td>4,6</td>\n",
              "      <td>9,38</td>\n",
              "      <td>2,1</td>\n",
              "      <td>6620</td>\n",
              "      <td>1450</td>\n",
              "      <td>446</td>\n",
              "      <td>78</td>\n",
              "      <td>12,68</td>\n",
              "    </tr>\n",
              "    <tr>\n",
              "      <th>2</th>\n",
              "      <td>Barão de Grajaú</td>\n",
              "      <td>?</td>\n",
              "      <td>39740,96</td>\n",
              "      <td>40114,7</td>\n",
              "      <td>0,592</td>\n",
              "      <td>11816,72</td>\n",
              "      <td>97,5</td>\n",
              "      <td>2209414</td>\n",
              "      <td>19026</td>\n",
              "      <td>1581</td>\n",
              "      <td>8,4</td>\n",
              "      <td>5,19</td>\n",
              "      <td>1,6</td>\n",
              "      <td>2571</td>\n",
              "      <td>735</td>\n",
              "      <td>190</td>\n",
              "      <td>52</td>\n",
              "      <td>14,98</td>\n",
              "    </tr>\n",
              "    <tr>\n",
              "      <th>3</th>\n",
              "      <td>Cajari</td>\n",
              "      <td>?</td>\n",
              "      <td>41227,11</td>\n",
              "      <td>34447,37</td>\n",
              "      <td>0,523</td>\n",
              "      <td>5748,61</td>\n",
              "      <td>98,5</td>\n",
              "      <td>662066</td>\n",
              "      <td>19521</td>\n",
              "      <td>642</td>\n",
              "      <td>3,3</td>\n",
              "      <td>2,04</td>\n",
              "      <td>1,7</td>\n",
              "      <td>3413</td>\n",
              "      <td>673</td>\n",
              "      <td>311</td>\n",
              "      <td>26</td>\n",
              "      <td>19,61</td>\n",
              "    </tr>\n",
              "    <tr>\n",
              "      <th>4</th>\n",
              "      <td>Conceição do Lago-Açu</td>\n",
              "      <td>?</td>\n",
              "      <td>35309,92</td>\n",
              "      <td>33722,37</td>\n",
              "      <td>0,512</td>\n",
              "      <td>8146,21</td>\n",
              "      <td>99,1</td>\n",
              "      <td>725664</td>\n",
              "      <td>16559</td>\n",
              "      <td>787</td>\n",
              "      <td>4,8</td>\n",
              "      <td>2,28</td>\n",
              "      <td>2,4</td>\n",
              "      <td>3428</td>\n",
              "      <td>423</td>\n",
              "      <td>260</td>\n",
              "      <td>17</td>\n",
              "      <td>20,75</td>\n",
              "    </tr>\n",
              "    <tr>\n",
              "      <th>5</th>\n",
              "      <td>Fernando Falcão</td>\n",
              "      <td>?</td>\n",
              "      <td>28139,66</td>\n",
              "      <td>26666,09</td>\n",
              "      <td>0,443</td>\n",
              "      <td>8051,5</td>\n",
              "      <td>94</td>\n",
              "      <td>5086589</td>\n",
              "      <td>10559</td>\n",
              "      <td>309</td>\n",
              "      <td>3</td>\n",
              "      <td>5,93</td>\n",
              "      <td>2,1</td>\n",
              "      <td>2357</td>\n",
              "      <td>387</td>\n",
              "      <td>178</td>\n",
              "      <td>24</td>\n",
              "      <td>29,79</td>\n",
              "    </tr>\n",
              "    <tr>\n",
              "      <th>6</th>\n",
              "      <td>Governador Nunes Freire</td>\n",
              "      <td>?</td>\n",
              "      <td>54743,82</td>\n",
              "      <td>56990,05</td>\n",
              "      <td>0,569</td>\n",
              "      <td>8849,43</td>\n",
              "      <td>98,9</td>\n",
              "      <td>1037130</td>\n",
              "      <td>25502</td>\n",
              "      <td>1408</td>\n",
              "      <td>5,5</td>\n",
              "      <td>4,95</td>\n",
              "      <td>2,3</td>\n",
              "      <td>4444</td>\n",
              "      <td>1061</td>\n",
              "      <td>237</td>\n",
              "      <td>58</td>\n",
              "      <td>6,94</td>\n",
              "    </tr>\n",
              "    <tr>\n",
              "      <th>7</th>\n",
              "      <td>Humberto de Campos</td>\n",
              "      <td>?</td>\n",
              "      <td>58526,41</td>\n",
              "      <td>53163,82</td>\n",
              "      <td>0,535</td>\n",
              "      <td>5831,58</td>\n",
              "      <td>97,3</td>\n",
              "      <td>1714625</td>\n",
              "      <td>29143</td>\n",
              "      <td>1795</td>\n",
              "      <td>6,2</td>\n",
              "      <td>6,3</td>\n",
              "      <td>1,8</td>\n",
              "      <td>5970</td>\n",
              "      <td>1268</td>\n",
              "      <td>332</td>\n",
              "      <td>44</td>\n",
              "      <td>17,54</td>\n",
              "    </tr>\n",
              "    <tr>\n",
              "      <th>8</th>\n",
              "      <td>Igarapé Grande</td>\n",
              "      <td>?</td>\n",
              "      <td>26782,92</td>\n",
              "      <td>26927,56</td>\n",
              "      <td>0,614</td>\n",
              "      <td>9132,96</td>\n",
              "      <td>97,4</td>\n",
              "      <td>346218</td>\n",
              "      <td>11453</td>\n",
              "      <td>527</td>\n",
              "      <td>4,6</td>\n",
              "      <td>2,07</td>\n",
              "      <td>2</td>\n",
              "      <td>1506</td>\n",
              "      <td>283</td>\n",
              "      <td>126</td>\n",
              "      <td>14</td>\n",
              "      <td>17,54</td>\n",
              "    </tr>\n",
              "    <tr>\n",
              "      <th>9</th>\n",
              "      <td>João Lisboa</td>\n",
              "      <td>?</td>\n",
              "      <td>52757,39</td>\n",
              "      <td>50472,16</td>\n",
              "      <td>0,641</td>\n",
              "      <td>9874,08</td>\n",
              "      <td>95,9</td>\n",
              "      <td>1137104</td>\n",
              "      <td>23677</td>\n",
              "      <td>1720</td>\n",
              "      <td>7,2</td>\n",
              "      <td>7,28</td>\n",
              "      <td>1,6</td>\n",
              "      <td>4549</td>\n",
              "      <td>933</td>\n",
              "      <td>310</td>\n",
              "      <td>45</td>\n",
              "      <td>16,71</td>\n",
              "    </tr>\n",
              "    <tr>\n",
              "      <th>10</th>\n",
              "      <td>Maracaçumé</td>\n",
              "      <td>?</td>\n",
              "      <td>43679,42</td>\n",
              "      <td>44002,65</td>\n",
              "      <td>0,582</td>\n",
              "      <td>8435,29</td>\n",
              "      <td>97,2</td>\n",
              "      <td>635758</td>\n",
              "      <td>21773</td>\n",
              "      <td>1053</td>\n",
              "      <td>4,9</td>\n",
              "      <td>5,01</td>\n",
              "      <td>1,8</td>\n",
              "      <td>4035</td>\n",
              "      <td>804</td>\n",
              "      <td>279</td>\n",
              "      <td>42</td>\n",
              "      <td>5,57</td>\n",
              "    </tr>\n",
              "    <tr>\n",
              "      <th>11</th>\n",
              "      <td>Morros</td>\n",
              "      <td>?</td>\n",
              "      <td>41100,42</td>\n",
              "      <td>43043,54</td>\n",
              "      <td>0,548</td>\n",
              "      <td>6674,91</td>\n",
              "      <td>NaN</td>\n",
              "      <td>1712121</td>\n",
              "      <td>19708</td>\n",
              "      <td>949</td>\n",
              "      <td>4,8</td>\n",
              "      <td>4,65</td>\n",
              "      <td>1,9</td>\n",
              "      <td>3832</td>\n",
              "      <td>733</td>\n",
              "      <td>198</td>\n",
              "      <td>54</td>\n",
              "      <td>17,09</td>\n",
              "    </tr>\n",
              "    <tr>\n",
              "      <th>12</th>\n",
              "      <td>Peri Mirim</td>\n",
              "      <td>?</td>\n",
              "      <td>25497,08</td>\n",
              "      <td>24520,16</td>\n",
              "      <td>0,599</td>\n",
              "      <td>5677,97</td>\n",
              "      <td>97,3</td>\n",
              "      <td>397994</td>\n",
              "      <td>14371</td>\n",
              "      <td>566</td>\n",
              "      <td>3,9</td>\n",
              "      <td>2,73</td>\n",
              "      <td>1,6</td>\n",
              "      <td>1707</td>\n",
              "      <td>494</td>\n",
              "      <td>152</td>\n",
              "      <td>20</td>\n",
              "      <td>15,04</td>\n",
              "    </tr>\n",
              "    <tr>\n",
              "      <th>13</th>\n",
              "      <td>Presidente Vargas</td>\n",
              "      <td>?</td>\n",
              "      <td>29682,36</td>\n",
              "      <td>26548,14</td>\n",
              "      <td>0,587</td>\n",
              "      <td>6456,79</td>\n",
              "      <td>98,6</td>\n",
              "      <td>330765</td>\n",
              "      <td>11328</td>\n",
              "      <td>674</td>\n",
              "      <td>6</td>\n",
              "      <td>1,79</td>\n",
              "      <td>2</td>\n",
              "      <td>2327</td>\n",
              "      <td>529</td>\n",
              "      <td>144</td>\n",
              "      <td>31</td>\n",
              "      <td>9,66</td>\n",
              "    </tr>\n",
              "    <tr>\n",
              "      <th>14</th>\n",
              "      <td>Santa Filomena do Maranhão</td>\n",
              "      <td>?</td>\n",
              "      <td>16907,96</td>\n",
              "      <td>16519,89</td>\n",
              "      <td>0,525</td>\n",
              "      <td>6980,1</td>\n",
              "      <td>98,3</td>\n",
              "      <td>623213</td>\n",
              "      <td>7878</td>\n",
              "      <td>286</td>\n",
              "      <td>3,7</td>\n",
              "      <td>1,17</td>\n",
              "      <td>2</td>\n",
              "      <td>1071</td>\n",
              "      <td>191</td>\n",
              "      <td>95</td>\n",
              "      <td>15</td>\n",
              "      <td>NaN</td>\n",
              "    </tr>\n",
              "    <tr>\n",
              "      <th>15</th>\n",
              "      <td>Santa Luzia do Paruá</td>\n",
              "      <td>?</td>\n",
              "      <td>46382,69</td>\n",
              "      <td>45363,62</td>\n",
              "      <td>0,599</td>\n",
              "      <td>9502,7</td>\n",
              "      <td>96</td>\n",
              "      <td>1010483</td>\n",
              "      <td>25487</td>\n",
              "      <td>1986</td>\n",
              "      <td>7,8</td>\n",
              "      <td>5,32</td>\n",
              "      <td>1,8</td>\n",
              "      <td>3773</td>\n",
              "      <td>1013</td>\n",
              "      <td>290</td>\n",
              "      <td>49</td>\n",
              "      <td>8,29</td>\n",
              "    </tr>\n",
              "    <tr>\n",
              "      <th>16</th>\n",
              "      <td>São Domingos do Maranhão</td>\n",
              "      <td>?</td>\n",
              "      <td>63101,85</td>\n",
              "      <td>62502,24</td>\n",
              "      <td>0,582</td>\n",
              "      <td>9479,45</td>\n",
              "      <td>95,4</td>\n",
              "      <td>1151978</td>\n",
              "      <td>34391</td>\n",
              "      <td>1688</td>\n",
              "      <td>4,9</td>\n",
              "      <td>9,92</td>\n",
              "      <td>1,5</td>\n",
              "      <td>5920</td>\n",
              "      <td>1669</td>\n",
              "      <td>488</td>\n",
              "      <td>57</td>\n",
              "      <td>8,45</td>\n",
              "    </tr>\n",
              "    <tr>\n",
              "      <th>17</th>\n",
              "      <td>São José de Ribamar</td>\n",
              "      <td>?</td>\n",
              "      <td>322585,37</td>\n",
              "      <td>269724,8</td>\n",
              "      <td>0,708</td>\n",
              "      <td>12095,58</td>\n",
              "      <td>77,4</td>\n",
              "      <td>180363</td>\n",
              "      <td>180345</td>\n",
              "      <td>18729</td>\n",
              "      <td>10,5</td>\n",
              "      <td>54,12</td>\n",
              "      <td>1,8</td>\n",
              "      <td>27544</td>\n",
              "      <td>4080</td>\n",
              "      <td>979</td>\n",
              "      <td>326</td>\n",
              "      <td>16,59</td>\n",
              "    </tr>\n",
              "    <tr>\n",
              "      <th>18</th>\n",
              "      <td>Satubinha</td>\n",
              "      <td>?</td>\n",
              "      <td>28584,08</td>\n",
              "      <td>28151,57</td>\n",
              "      <td>0,493</td>\n",
              "      <td>5690,84</td>\n",
              "      <td>94,2</td>\n",
              "      <td>441811</td>\n",
              "      <td>14274</td>\n",
              "      <td>419</td>\n",
              "      <td>3</td>\n",
              "      <td>1,69</td>\n",
              "      <td>1,4</td>\n",
              "      <td>1970</td>\n",
              "      <td>287</td>\n",
              "      <td>115</td>\n",
              "      <td>25</td>\n",
              "      <td>25,97</td>\n",
              "    </tr>\n",
              "    <tr>\n",
              "      <th>19</th>\n",
              "      <td>Vila Nova dos Martírios</td>\n",
              "      <td>?</td>\n",
              "      <td>92120,11</td>\n",
              "      <td>35429,17</td>\n",
              "      <td>0,581</td>\n",
              "      <td>10104,78</td>\n",
              "      <td>93,5</td>\n",
              "      <td>1190008</td>\n",
              "      <td>13800</td>\n",
              "      <td>1201</td>\n",
              "      <td>8,8</td>\n",
              "      <td>2,94</td>\n",
              "      <td>2</td>\n",
              "      <td>1798</td>\n",
              "      <td>365</td>\n",
              "      <td>58</td>\n",
              "      <td>17</td>\n",
              "      <td>18,75</td>\n",
              "    </tr>\n",
              "  </tbody>\n",
              "</table>\n",
              "</div>\n",
              "      <button class=\"colab-df-convert\" onclick=\"convertToInteractive('df-31e87365-858e-4886-9fc0-f42095b25dda')\"\n",
              "              title=\"Convert this dataframe to an interactive table.\"\n",
              "              style=\"display:none;\">\n",
              "        \n",
              "  <svg xmlns=\"http://www.w3.org/2000/svg\" height=\"24px\"viewBox=\"0 0 24 24\"\n",
              "       width=\"24px\">\n",
              "    <path d=\"M0 0h24v24H0V0z\" fill=\"none\"/>\n",
              "    <path d=\"M18.56 5.44l.94 2.06.94-2.06 2.06-.94-2.06-.94-.94-2.06-.94 2.06-2.06.94zm-11 1L8.5 8.5l.94-2.06 2.06-.94-2.06-.94L8.5 2.5l-.94 2.06-2.06.94zm10 10l.94 2.06.94-2.06 2.06-.94-2.06-.94-.94-2.06-.94 2.06-2.06.94z\"/><path d=\"M17.41 7.96l-1.37-1.37c-.4-.4-.92-.59-1.43-.59-.52 0-1.04.2-1.43.59L10.3 9.45l-7.72 7.72c-.78.78-.78 2.05 0 2.83L4 21.41c.39.39.9.59 1.41.59.51 0 1.02-.2 1.41-.59l7.78-7.78 2.81-2.81c.8-.78.8-2.07 0-2.86zM5.41 20L4 18.59l7.72-7.72 1.47 1.35L5.41 20z\"/>\n",
              "  </svg>\n",
              "      </button>\n",
              "      \n",
              "  <style>\n",
              "    .colab-df-container {\n",
              "      display:flex;\n",
              "      flex-wrap:wrap;\n",
              "      gap: 12px;\n",
              "    }\n",
              "\n",
              "    .colab-df-convert {\n",
              "      background-color: #E8F0FE;\n",
              "      border: none;\n",
              "      border-radius: 50%;\n",
              "      cursor: pointer;\n",
              "      display: none;\n",
              "      fill: #1967D2;\n",
              "      height: 32px;\n",
              "      padding: 0 0 0 0;\n",
              "      width: 32px;\n",
              "    }\n",
              "\n",
              "    .colab-df-convert:hover {\n",
              "      background-color: #E2EBFA;\n",
              "      box-shadow: 0px 1px 2px rgba(60, 64, 67, 0.3), 0px 1px 3px 1px rgba(60, 64, 67, 0.15);\n",
              "      fill: #174EA6;\n",
              "    }\n",
              "\n",
              "    [theme=dark] .colab-df-convert {\n",
              "      background-color: #3B4455;\n",
              "      fill: #D2E3FC;\n",
              "    }\n",
              "\n",
              "    [theme=dark] .colab-df-convert:hover {\n",
              "      background-color: #434B5C;\n",
              "      box-shadow: 0px 1px 3px 1px rgba(0, 0, 0, 0.15);\n",
              "      filter: drop-shadow(0px 1px 2px rgba(0, 0, 0, 0.3));\n",
              "      fill: #FFFFFF;\n",
              "    }\n",
              "  </style>\n",
              "\n",
              "      <script>\n",
              "        const buttonEl =\n",
              "          document.querySelector('#df-31e87365-858e-4886-9fc0-f42095b25dda button.colab-df-convert');\n",
              "        buttonEl.style.display =\n",
              "          google.colab.kernel.accessAllowed ? 'block' : 'none';\n",
              "\n",
              "        async function convertToInteractive(key) {\n",
              "          const element = document.querySelector('#df-31e87365-858e-4886-9fc0-f42095b25dda');\n",
              "          const dataTable =\n",
              "            await google.colab.kernel.invokeFunction('convertToInteractive',\n",
              "                                                     [key], {});\n",
              "          if (!dataTable) return;\n",
              "\n",
              "          const docLinkHtml = 'Like what you see? Visit the ' +\n",
              "            '<a target=\"_blank\" href=https://colab.research.google.com/notebooks/data_table.ipynb>data table notebook</a>'\n",
              "            + ' to learn more about interactive tables.';\n",
              "          element.innerHTML = '';\n",
              "          dataTable['output_type'] = 'display_data';\n",
              "          await google.colab.output.renderOutput(dataTable, element);\n",
              "          const docLink = document.createElement('div');\n",
              "          docLink.innerHTML = docLinkHtml;\n",
              "          element.appendChild(docLink);\n",
              "        }\n",
              "      </script>\n",
              "    </div>\n",
              "  </div>\n",
              "  "
            ]
          },
          "metadata": {},
          "execution_count": 208
        }
      ]
    },
    {
      "cell_type": "markdown",
      "source": [
        "## Transformando dados de predição"
      ],
      "metadata": {
        "id": "vm5WRatKUTly"
      }
    },
    {
      "cell_type": "code",
      "source": [
        "mun = []\n",
        "for i in predict_data['Município']:\n",
        "  mun.append(i)"
      ],
      "metadata": {
        "id": "rllmGGpE9vZq"
      },
      "execution_count": null,
      "outputs": []
    },
    {
      "cell_type": "code",
      "source": [
        "predict_data = predict_data.drop(['Município'], axis = 1)\n",
        "predict_data = predict_data.drop(['IFGF'], axis = 1)"
      ],
      "metadata": {
        "id": "lB_s9j9Y7cnz"
      },
      "execution_count": null,
      "outputs": []
    },
    {
      "cell_type": "code",
      "source": [
        "# Substituir vírgulas por pontos em todas as colunas\n",
        "predict_data = predict_data.replace(',', '.', regex=True)\n",
        "\n",
        "# Converter todas as colunas para tipo float\n",
        "predict_data = predict_data.astype(float)\n",
        "\n",
        "values = {'Percentual das receitas oriundas de fontes externas (%)': media_perc, 'Mortalidade Infantil': media_mi}\n",
        "\n",
        "predict_data = predict_data.fillna(value=values)"
      ],
      "metadata": {
        "id": "puOrl0fe7l4Q"
      },
      "execution_count": null,
      "outputs": []
    },
    {
      "cell_type": "markdown",
      "source": [
        "## Realizando a predição"
      ],
      "metadata": {
        "id": "cN49vG-6UY-U"
      }
    },
    {
      "cell_type": "code",
      "source": [
        "scaler_1 = StandardScaler()\n",
        "\n",
        "x_test_pred = scaler_1.fit_transform(predict_data)\n",
        "y_test_pred = classifier.predict(x_test_pred)"
      ],
      "metadata": {
        "colab": {
          "base_uri": "https://localhost:8080/"
        },
        "id": "pEeyX_Ns82xj",
        "outputId": "1b2d618d-f77f-4a49-8cc4-bc3315b5020a"
      },
      "execution_count": null,
      "outputs": [
        {
          "output_type": "stream",
          "name": "stdout",
          "text": [
            "1/1 [==============================] - 0s 21ms/step\n"
          ]
        }
      ]
    },
    {
      "cell_type": "code",
      "source": [
        "y_test_pred"
      ],
      "metadata": {
        "colab": {
          "base_uri": "https://localhost:8080/"
        },
        "id": "6lkINcALl9Kj",
        "outputId": "13511df2-1c12-4f59-90c0-c3e5359a4fc4"
      },
      "execution_count": null,
      "outputs": [
        {
          "output_type": "execute_result",
          "data": {
            "text/plain": [
              "array([[3.4505209e-01],\n",
              "       [9.8944932e-01],\n",
              "       [1.8633738e-06],\n",
              "       [2.2944449e-01],\n",
              "       [9.8580337e-01],\n",
              "       [1.0000000e+00],\n",
              "       [8.8862145e-01],\n",
              "       [9.5876926e-01],\n",
              "       [9.9977380e-01],\n",
              "       [2.9984005e-02],\n",
              "       [7.8208327e-01],\n",
              "       [1.5189089e-01],\n",
              "       [5.4413629e-01],\n",
              "       [9.9979502e-01],\n",
              "       [9.5612146e-02],\n",
              "       [8.4362906e-01],\n",
              "       [5.6586194e-01],\n",
              "       [1.5304832e-10],\n",
              "       [2.3074256e-01],\n",
              "       [9.8050565e-01]], dtype=float32)"
            ]
          },
          "metadata": {},
          "execution_count": 213
        }
      ]
    },
    {
      "cell_type": "markdown",
      "source": [
        "## Resultado final"
      ],
      "metadata": {
        "id": "ChtdVEa2oCAF"
      }
    },
    {
      "cell_type": "code",
      "source": [
        "y_pred_final = (y_test_pred > 0.5)\n",
        "\n",
        "criticos = []\n",
        "normais = []\n",
        "for i,j in zip(mun, y_pred_final):\n",
        "  if j[0] == True:\n",
        "    criticos.append(i)\n",
        "  else:\n",
        "    normais.append(i)"
      ],
      "metadata": {
        "id": "xSOy8uVUXD6k"
      },
      "execution_count": null,
      "outputs": []
    },
    {
      "cell_type": "markdown",
      "source": [
        "y_pred = (y_test > 0.5): Estamos aplicando um limiar de 0.5 às previsões y_test. Essa linha de código cria um novo array y_pred em que os valores maiores que 0.5 são considerados como True (1) e os valores menores ou iguais a 0.5 são considerados como False (0). Isso transforma as previsões contínuas em previsões binárias."
      ],
      "metadata": {
        "id": "v1Zn65PpVdnu"
      }
    },
    {
      "cell_type": "markdown",
      "source": [
        "## Conclusões"
      ],
      "metadata": {
        "id": "pCZ-pmhmSQGS"
      }
    },
    {
      "cell_type": "code",
      "source": [
        "print('Municicios em estado critico:', len(criticos))\n",
        "print('Municicios em estado normal:', len(normais))"
      ],
      "metadata": {
        "colab": {
          "base_uri": "https://localhost:8080/"
        },
        "id": "blaFRDuuUqMF",
        "outputId": "4708d710-6a06-4f2e-c87e-94e496c11544"
      },
      "execution_count": null,
      "outputs": [
        {
          "output_type": "stream",
          "name": "stdout",
          "text": [
            "Municicios em estado critico: 12\n",
            "Municicios em estado normal: 8\n"
          ]
        }
      ]
    },
    {
      "cell_type": "code",
      "source": [
        "print(\"Criticos:\")\n",
        "print()\n",
        "for i in criticos:\n",
        "  print(i)"
      ],
      "metadata": {
        "colab": {
          "base_uri": "https://localhost:8080/"
        },
        "id": "14hvqg4mVAPT",
        "outputId": "d00d6c47-a3d2-44c8-efdb-c6509ad05d91"
      },
      "execution_count": null,
      "outputs": [
        {
          "output_type": "stream",
          "name": "stdout",
          "text": [
            "Criticos:\n",
            "\n",
            "Arame\n",
            "Conceição do Lago-Açu\n",
            "Fernando Falcão\n",
            "Governador Nunes Freire\n",
            "Humberto de Campos\n",
            "Igarapé Grande\n",
            "Maracaçumé\n",
            "Peri Mirim\n",
            "Presidente Vargas\n",
            "Santa Luzia do Paruá\n",
            "São Domingos do Maranhão\n",
            "Vila Nova dos Martírios\n"
          ]
        }
      ]
    },
    {
      "cell_type": "code",
      "source": [
        "print(\"Regulares:\")\n",
        "print()\n",
        "for i in normais:\n",
        "  print(i)"
      ],
      "metadata": {
        "colab": {
          "base_uri": "https://localhost:8080/"
        },
        "id": "S2EbmyyJVKwX",
        "outputId": "8df8a076-de34-47ad-f717-03aef242f7ac"
      },
      "execution_count": null,
      "outputs": [
        {
          "output_type": "stream",
          "name": "stdout",
          "text": [
            "Regulares:\n",
            "\n",
            "Alto Alegre do Maranhão\n",
            "Barão de Grajaú\n",
            "Cajari\n",
            "João Lisboa\n",
            "Morros\n",
            "Santa Filomena do Maranhão\n",
            "São José de Ribamar\n",
            "Satubinha\n"
          ]
        }
      ]
    },
    {
      "cell_type": "markdown",
      "source": [
        "#### Fontes utilizadas:"
      ],
      "metadata": {
        "id": "hLRiopVHSmwP"
      }
    },
    {
      "cell_type": "markdown",
      "source": [
        "- https://www.deeplearningbook.com.br/inicializacao-de-pesos-em-redes-neurais-artificiais/\n",
        "- https://www.deeplearningbook.com.br/capitulo-26-como-escolher-os-hiperparametros-de-uma-rede-neural/\n",
        "- http://leg.ufpr.br/~lucambio/Nonparam/NparamV.html\n",
        "- https://sites.icmc.usp.br/andre/research/neural/\n",
        "- https://repositorio.ufu.br/bitstream/123456789/17967/1/AnaliseDesempenhoRedes.pdf\n",
        "- https://ele.ufes.br/sites/engenhariaeletrica.ufes.br/files/field/anexo/kaio_g_utsch.pdf\n",
        "- https://www.deeplearningbook.com.br/inicializacao-de-pesos-em-redes-neurais-artificiais/\n",
        "- https://sites.icmc.usp.br/andre/research/neural/\n",
        "- https://www.sas.com/pt_br/insights/analytics/neural-networks.html#:~:text=História%20das%20redes%20neurais,neural%20simples%20com%20circuitos%20elétricos\n",
        "- https://www.deeplearningbook.com.br/uma-breve-historia-das-redes-neurais-artificiais/\n",
        "- https://medium.com/brasil-ai/entendendo-o-funcionamento-de-uma-rede-neural-artificial-4463fcf44dd0\n",
        "- https://lamfo-unb.github.io/2017/07/27/tres-tipos-am/\n",
        "- https://playground.tensorflow.org/#activation=linear&batchSize=16&dataset=circle&regDataset=reg-plane&learningRate=0.03&regularizationRate=0&noise=15&networkShape=3,2&seed=0.35029&showTestData=false&discretize=false&percTrainData=30&x=true&y=true&xTimesY=false&xSquared=false&ySquared=false&cosX=false&sinX=false&cosY=false&sinY=false&collectStats=false&problem=classification&initZero=false&hideText=false"
      ],
      "metadata": {
        "id": "eiGJoSDfSpJD"
      }
    },
    {
      "cell_type": "code",
      "source": [],
      "metadata": {
        "id": "Zi9sjo1ZHBr9"
      },
      "execution_count": null,
      "outputs": []
    }
  ]
}